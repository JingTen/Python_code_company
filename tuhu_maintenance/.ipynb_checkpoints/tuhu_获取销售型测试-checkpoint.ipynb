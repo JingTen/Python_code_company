{
 "cells": [
  {
   "cell_type": "code",
   "execution_count": 53,
   "metadata": {},
   "outputs": [
    {
     "name": "stdout",
     "output_type": "stream",
     "text": [
      "{'Code': 0, 'message': '返回数据数量为0'}\n"
     ]
    },
    {
     "ename": "KeyError",
     "evalue": "'SalesName'",
     "output_type": "error",
     "traceback": [
      "\u001b[1;31m---------------------------------------------------------------------------\u001b[0m",
      "\u001b[1;31mKeyError\u001b[0m                                  Traceback (most recent call last)",
      "\u001b[1;32m<ipython-input-53-9679180dde91>\u001b[0m in \u001b[0;36m<module>\u001b[1;34m()\u001b[0m\n\u001b[0;32m     27\u001b[0m     \u001b[0mresponse_dict\u001b[0m \u001b[1;33m=\u001b[0m \u001b[0meval\u001b[0m\u001b[1;33m(\u001b[0m\u001b[0mresponse_str\u001b[0m\u001b[1;33m)\u001b[0m\u001b[1;33m\u001b[0m\u001b[0m\n\u001b[0;32m     28\u001b[0m     \u001b[0mprint\u001b[0m\u001b[1;33m(\u001b[0m\u001b[0mresponse_dict\u001b[0m\u001b[1;33m)\u001b[0m\u001b[1;33m\u001b[0m\u001b[0m\n\u001b[1;32m---> 29\u001b[1;33m     \u001b[0mSalesVehicle\u001b[0m \u001b[1;33m=\u001b[0m \u001b[0mresponse_dict\u001b[0m\u001b[1;33m[\u001b[0m\u001b[1;34m'SalesName'\u001b[0m\u001b[1;33m]\u001b[0m\u001b[1;33m\u001b[0m\u001b[0m\n\u001b[0m\u001b[0;32m     30\u001b[0m     \u001b[1;32mif\u001b[0m \u001b[0mSalesVehicle\u001b[0m\u001b[1;33m:\u001b[0m\u001b[1;33m\u001b[0m\u001b[0m\n\u001b[0;32m     31\u001b[0m         \u001b[1;32mfor\u001b[0m \u001b[0msale\u001b[0m \u001b[1;32min\u001b[0m \u001b[0mSalesVehicle\u001b[0m\u001b[1;33m:\u001b[0m\u001b[1;33m\u001b[0m\u001b[0m\n",
      "\u001b[1;31mKeyError\u001b[0m: 'SalesName'"
     ]
    }
   ],
   "source": [
    "'''\n",
    "依据已采集的车系级别数据，通过传参params访问途虎轮胎销售型选择页面\n",
    "获取给定条件的每个生产年份下，允许存在的销售型\n",
    "'''\n",
    "import requests\n",
    "\n",
    "headers = {\n",
    "    \"user-agent\": \"Mozilla/5.0 (Windows NT 10.0; Win64; x64) AppleWebKit/537.36 (KHTML, like Gecko) Chrome/74.0.3729.6 Safari/537.36\",\n",
    "    \"x-requested-with\": \"XMLHttpRequest\"\n",
    "}\n",
    "\n",
    "# 传参\n",
    "params = {\n",
    "    \"VehicleID\":\"VE-VOLS06BM\",\n",
    "    \"PaiLiang\":\"1.4L\",\n",
    "    \"Nian\":\"2002\",\n",
    "    \"_\":\"1571218583803\"\n",
    "}\n",
    "\n",
    "url = 'https://item.tuhu.cn/Car/SelectVehicleSalesName?callback=__GetCarBrands__'\n",
    "response = requests.get(url,params=params,headers=headers)\n",
    "\n",
    "if response.status_code == 200:\n",
    "    response_str = response.text\n",
    "    # 处理null值,处理前后多余字符串，并转为字典\n",
    "    response_str = response_str.replace('null','\"\"').replace('__GetCarBrands__(','')[:-1]\n",
    "    response_dict = eval(response_str)\n",
    "    # 判断是否返回销售型数据\n",
    "    if 'SalesName' in response_dict:\n",
    "        SalesVehicle = response_dict['SalesName']\n",
    "        for sale in SalesVehicle:\n",
    "            LiYangID = sale['LiYangID']\n",
    "            TID = sale['TID']\n",
    "            SaleName = sale['Name']\n",
    "            print(LiYangID,TID,SaleName)\n",
    "\n",
    "else:\n",
    "    print(\"未成功采集\")\n",
    "\n",
    "\n"
   ]
  },
  {
   "cell_type": "code",
   "execution_count": 55,
   "metadata": {},
   "outputs": [
    {
     "name": "stdout",
     "output_type": "stream",
     "text": [
      "6\n"
     ]
    }
   ],
   "source": [
    "a = {'Code': 0, 'message': '返回数据数量为0'}\n",
    "if 'SalesName' in a:\n",
    "    pass\n",
    "else:\n",
    "    print(6)"
   ]
  }
 ],
 "metadata": {
  "kernelspec": {
   "display_name": "Python 3",
   "language": "python",
   "name": "python3"
  },
  "language_info": {
   "codemirror_mode": {
    "name": "ipython",
    "version": 3
   },
   "file_extension": ".py",
   "mimetype": "text/x-python",
   "name": "python",
   "nbconvert_exporter": "python",
   "pygments_lexer": "ipython3",
   "version": "3.6.5"
  }
 },
 "nbformat": 4,
 "nbformat_minor": 2
}
