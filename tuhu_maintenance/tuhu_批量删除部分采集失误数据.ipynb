{
 "cells": [
  {
   "cell_type": "code",
   "execution_count": null,
   "metadata": {},
   "outputs": [],
   "source": [
    "# coding=utf-8\n",
    "import pymysql\n",
    "\n",
    "# 传入由元组组成的列表，按条件批量删除MySQL数据\n",
    "def delete_date_from_MySQL(delete_lists):\n",
    "    conn = pymysql.connect(host='127.0.0.1', user='root', passwd='123456', db='MySQL', charset='utf8')\n",
    "    cur = conn.cursor()\n",
    "    cur.execute('USE tuhu_maintenance')\n",
    "    sql = '''\n",
    "        DELETE FROM `sales_vehicle_bytype_and_products`\n",
    "        WHERE tid = %s AND product_year = %s;\n",
    "    '''\n",
    "    rows = cur.executemany(sql, delete_lists)\n",
    "    conn.commit()\n",
    "    cur.close()\n",
    "    conn.close()\n",
    "\n",
    "\n",
    "\n",
    "\n",
    "\n"
   ]
  },
  {
   "cell_type": "code",
   "execution_count": null,
   "metadata": {},
   "outputs": [],
   "source": [
    "delete_lists = [('118346', '2019'), ('118347', '2019'), ('118348', '2019'), ('122349', '2018'), ('122350', '2018'), ('122351', '2018'), ('122349', '2019'), ('122350', '2019'), ('122351', '2019'), ('111123', '2019'), ('111124', '2019'), ('111125', '2019'), ('13098', '2019'), ('848', '2006'), ('850', '2006'), ('848', '2007'), ('850', '2007'), ('848', '2008'), ('850', '2008'), ('848', '2009'), ('850', '2009'), ('848', '2010'), ('850', '2010'), ('848', '2011'), ('850', '2011'), ('857', '2011'), ('858', '2011'), ('859', '2011'), ('860', '2011'), ('857', '2012'), ('859', '2012'), ('860', '2012'), ('857', '2013'), ('859', '2013'), ('860', '2013'), ('857', '2014'), ('859', '2014'), ('860', '2014'), ('857', '2015'), ('859', '2015'), ('860', '2015'), ('857', '2016'), ('859', '2016'), ('860', '2016'), ('857', '2017'), ('859', '2017'), ('860', '2017'), ('857', '2018'), ('859', '2018'), ('860', '2018'), ('857', '2019'), ('859', '2019'), ('860', '2019'), ('852', '2006'), ('852', '2007'), ('852', '2008'), ('852', '2009'), ('852', '2010'), ('852', '2011'), ('101960', '2001'), ('101960', '2002'), ('101960', '2003'), ('101960', '2004'), ('100365', '2000'), ('100365', '2001'), ('100366', '2003'), ('100368', '2003'), ('100366', '2004'), ('100368', '2004'), ('100366', '2005'), ('100368', '2005'), ('100366', '2006'), ('100368', '2006'), ('100366', '2007'), ('100368', '2007'), ('100366', '2008'), ('113932', '2018'), ('113932', '2019')]\n",
    "\n",
    "# 删除 example_products_html\n",
    "# delete_date_from_MySQL(delete_lists)\n",
    "\n",
    "# 删除 products_html\n",
    "# delete_date_from_MySQL(delete_lists)\n",
    "\n",
    "# 删除 sales_vehicle_bytype_and_products\n",
    "delete_date_from_MySQL(delete_lists)"
   ]
  }
 ],
 "metadata": {
  "kernelspec": {
   "display_name": "Python 3",
   "language": "python",
   "name": "python3"
  },
  "language_info": {
   "codemirror_mode": {
    "name": "ipython",
    "version": 3
   },
   "file_extension": ".py",
   "mimetype": "text/x-python",
   "name": "python",
   "nbconvert_exporter": "python",
   "pygments_lexer": "ipython3",
   "version": "3.6.5"
  }
 },
 "nbformat": 4,
 "nbformat_minor": 2
}
