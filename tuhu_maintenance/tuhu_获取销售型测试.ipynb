{
 "cells": [
  {
   "cell_type": "code",
   "execution_count": 60,
   "metadata": {},
   "outputs": [
    {
     "name": "stdout",
     "output_type": "stream",
     "text": [
      "{'Code': 0, 'message': '返回数据数量为0'}\n",
      "传参有误\n"
     ]
    }
   ],
   "source": [
    "'''\n",
    "依据已采集的车系级别数据，通过传参params访问途虎轮胎销售型选择页面\n",
    "获取给定条件的每个生产年份下，允许存在的销售型\n",
    "'''\n",
    "import requests\n",
    "\n",
    "headers = {\n",
    "    \"user-agent\": \"Mozilla/5.0 (Windows NT 10.0; Win64; x64) AppleWebKit/537.36 (KHTML, like Gecko) Chrome/74.0.3729.6 Safari/537.36\",\n",
    "    \"x-requested-with\": \"XMLHttpRequest\"\n",
    "}\n",
    "\n",
    "# 传参\n",
    "params = {\n",
    "    \"VehicleID\":\"VE-GPEUG505\",\n",
    "    \"PaiLiang\":\"-\",\n",
    "    \"Nian\":\"-\",\n",
    "    \"_\":\"1571218583803\"\n",
    "}\n",
    "\n",
    "url = 'https://item.tuhu.cn/Car/SelectVehicleSalesName?callback=__GetCarBrands__'\n",
    "response = requests.get(url,params=params,headers=headers)\n",
    "\n",
    "if response.status_code == 200:\n",
    "    response_str = response.text\n",
    "    # 处理null值,处理前后多余字符串，并转为字典\n",
    "    response_str = response_str.replace('null','\"\"').replace('__GetCarBrands__(','')[:-1]\n",
    "    response_dict = eval(response_str)\n",
    "    print(response_dict)\n",
    "    # 判断是否返回销售型数据\n",
    "    if 'SalesName' in response_dict:\n",
    "        SalesVehicle = response_dict['SalesName']\n",
    "        for sale in SalesVehicle:\n",
    "            LiYangID = sale['LiYangID']\n",
    "            TID = sale['TID']\n",
    "            SaleName = sale['Name']\n",
    "            print(LiYangID,TID,SaleName)\n",
    "    else:\n",
    "        print('传参有误')\n",
    "else:\n",
    "    print(\"未成功采集\")\n",
    "\n",
    "\n"
   ]
  },
  {
   "cell_type": "code",
   "execution_count": 63,
   "metadata": {},
   "outputs": [
    {
     "name": "stdout",
     "output_type": "stream",
     "text": [
      "6\n"
     ]
    }
   ],
   "source": [
    "a = [2,3,None]\n",
    "if None in a:\n",
    "    print(6)\n",
    "else:\n",
    "    print(0)"
   ]
  }
 ],
 "metadata": {
  "kernelspec": {
   "display_name": "Python 3",
   "language": "python",
   "name": "python3"
  },
  "language_info": {
   "codemirror_mode": {
    "name": "ipython",
    "version": 3
   },
   "file_extension": ".py",
   "mimetype": "text/x-python",
   "name": "python",
   "nbconvert_exporter": "python",
   "pygments_lexer": "ipython3",
   "version": "3.6.5"
  }
 },
 "nbformat": 4,
 "nbformat_minor": 2
}
