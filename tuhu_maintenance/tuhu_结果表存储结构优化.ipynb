{
 "cells": [
  {
   "cell_type": "code",
   "execution_count": null,
   "metadata": {},
   "outputs": [],
   "source": [
    "# coding=utf-8\n",
    "'''\n",
    "剔除原结果表多余字段，新增据保养项目所需商品数量Count字段\n",
    "\n",
    "'''\n",
    "\n",
    "import pymysql\n",
    "\n",
    "# 查询现有结果表，剔除多余字段\n",
    "def select_less_field_from_sales_vehicle_bytype_and_products():\n",
    "    conn = pymysql.connect(host='127.0.0.1', user='root', passwd='123456', db='MySQL', charset='utf8')\n",
    "    cur = conn.cursor()\n",
    "    cur.execute(\"USE tuhu_maintenance\")\n",
    "    sql = \"\"\"\n",
    "        SELECT DISTINCT \n",
    "            original_brand,brand,series_id,series,series2,series_factory,factory,displacement,product_year,tid,sales_name,\n",
    "            BaoYangType,BaoYangType_ZhName,PackageType,PackageType_ZhName,CategoryType,CategoryName,DataTip,Pid\n",
    "        FROM `sales_vehicle_bytype_and_products`;\n",
    "    \"\"\"\n",
    "    cur.execute(sql)\n",
    "    result = cur.fetchall()\n",
    "    # 关闭连接\n",
    "    cur.close()\n",
    "    conn.close()\n",
    "    return result\n",
    "\n",
    "# 将结果存入简化新结果表\n",
    "def insert_into_new_result(tuples):\n",
    "    conn = pymysql.connect(host='127.0.0.1', user='root', passwd='123456', db='MySQL', charset='utf8')\n",
    "    cur = conn.cursor()\n",
    "    cur.execute(\"USE tuhu_maintenance\")\n",
    "    count = 0\n",
    "    all_num = len(tuples)\n",
    "    for i in tuples:\n",
    "        count += 1\n",
    "        print('第%s条（共%s条）记录正在插入' % (count, all_num))\n",
    "        sql = '''\n",
    "            INSERT INTO `tuhu_sales_vehicle_bytype_and_pid`\n",
    "                (original_brand,brand,series_id,series,series2,series_factory,factory,displacement,product_year,tid,sales_name,\n",
    "                BaoYangType,BaoYangType_ZhName,PackageType,PackageType_ZhName,CategoryType,CategoryName,DataTip,Pid)\n",
    "            VALUES\n",
    "            {};\n",
    "        '''.format(i)\n",
    "        cur.execute(sql)\n",
    "    # 提交，关闭\n",
    "    conn.commit()\n",
    "    cur.close()\n",
    "    conn.close()\n",
    "\n",
    "\n",
    "tuples = select_less_field_from_sales_vehicle_bytype_and_products()\n",
    "insert_into_new_result(tuples)\n",
    "print('GAME OVER!!!')"
   ]
  },
  {
   "cell_type": "code",
   "execution_count": null,
   "metadata": {},
   "outputs": [],
   "source": []
  }
 ],
 "metadata": {
  "kernelspec": {
   "display_name": "Python 3",
   "language": "python",
   "name": "python3"
  },
  "language_info": {
   "codemirror_mode": {
    "name": "ipython",
    "version": 3
   },
   "file_extension": ".py",
   "mimetype": "text/x-python",
   "name": "python",
   "nbconvert_exporter": "python",
   "pygments_lexer": "ipython3",
   "version": "3.6.5"
  }
 },
 "nbformat": 4,
 "nbformat_minor": 2
}
