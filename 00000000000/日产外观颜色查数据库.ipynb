{
 "cells": [
  {
   "cell_type": "code",
   "execution_count": 1,
   "metadata": {},
   "outputs": [
    {
     "name": "stdout",
     "output_type": "stream",
     "text": [
      "('LGBF1CE007R209903', '0706', 'B20', '0706', '0804', 612, '碧玉黑')\n",
      "('LGBF1CE017R221574', '0710', 'B21', '0710', '0710', 2, '碧天蓝')\n",
      "('LGBF1CE007R211585', '0707', 'B46', '0608', '0804', 222, '谧月蓝')\n",
      "('LGBF1CE007R210033', '0706', 'D42', '0706', '0803', 41, '云雾绿')\n",
      "('LGBF1CE007R218293', '0709', 'K23', '0706', '0804', 189, '月光银')\n",
      "('LGBF1CE007R218293', '0709', 'K23', '0706', '0804', 189, '流光银')\n",
      "('LGBF1CE007R218293', '0709', 'K23', '0706', '0804', 189, '灰色')\n",
      "('LGBF1CE007R215944', '0708', 'QX1', '0707', '0804', 39, '象牙白')\n",
      "[('LGBF1CE007R209903', '0706', 'B20', '0706', '0804', 612, '碧玉黑'), ('LGBF1CE017R221574', '0710', 'B21', '0710', '0710', 2, '碧天蓝'), ('LGBF1CE007R211585', '0707', 'B46', '0608', '0804', 222, '谧月蓝'), ('LGBF1CE007R210033', '0706', 'D42', '0706', '0803', 41, '云雾绿'), ('LGBF1CE007R218293', '0709', 'K23', '0706', '0804', 189, '月光银'), ('LGBF1CE007R218293', '0709', 'K23', '0706', '0804', 189, '流光银'), ('LGBF1CE007R218293', '0709', 'K23', '0706', '0804', 189, '灰色'), ('LGBF1CE007R215944', '0708', 'QX1', '0707', '0804', 39, '象牙白')]\n"
     ]
    }
   ],
   "source": [
    "# coding=utf-8\n",
    "'''\n",
    "日产外观颜色匹配\n",
    "通过已经匹配的车型ID查询该车型ID下所有可能出现的外观颜色信息\n",
    "'''\n",
    "\n",
    "import pymysql\n",
    "\n",
    "def select_hash(model_id):\n",
    "    '''车型ID 查 hash'''\n",
    "    conn = pymysql.connect(host='192.168.3.114', user='jing', passwd='123456', db='vin_nissan', charset='utf8')\n",
    "    cur = conn.cursor()\n",
    "    cur.execute(\"USE vin_nissan\")\n",
    "    sql = '''\n",
    "        SELECT GROUP_CONCAT(vin_group_hash) \n",
    "        FROM `sub_config_hash_map` \n",
    "        WHERE match_ids LIKE \"%{}%\";\n",
    "    '''.format(model_id)\n",
    "    cur.execute(sql)\n",
    "    result = cur.fetchall()\n",
    "    result_list = []\n",
    "    if result:\n",
    "        result_list = result[0][0].split(',')\n",
    "    cur.close()\n",
    "    conn.close()\n",
    "    return result_list\n",
    "\n",
    "def select_vin(hash_list):\n",
    "    '''通过 hash 查 VIN'''\n",
    "    conn = pymysql.connect(host='192.168.3.114', user='jing', passwd='123456', db='vin_nissan', charset='utf8')\n",
    "    cur = conn.cursor()\n",
    "    cur.execute(\"USE vin_nissan\")\n",
    "    sql = '''\n",
    "        SELECT `sub_vin_parts_hash`.vin\n",
    "        FROM `sub_vin_parts_hash` \n",
    "        WHERE `sub_vin_parts_hash`.parts_hash IN {};\n",
    "    '''.format(tuple(hash_list))\n",
    "    cur.execute(sql)\n",
    "    result = cur.fetchall()\n",
    "    result_list = []\n",
    "    if result:\n",
    "        for i in result:\n",
    "            result_list.append(i[0])\n",
    "    cur.close()\n",
    "    conn.close()\n",
    "    return result_list\n",
    "\n",
    "def select_vin_color_info(vin_list):\n",
    "    '''通过 hash 查 VIN 外观颜色信息'''\n",
    "    conn = pymysql.connect(host='192.168.3.114', user='jing', passwd='123456', db='vin_nissan', charset='utf8')\n",
    "    cur = conn.cursor()\n",
    "    cur.execute(\"USE vin_nissan\")\n",
    "    sql = '''\n",
    "        SELECT T2.*,`nissan_body_color`.name\n",
    "        FROM\n",
    "            (SELECT \n",
    "                `app_nissan_vin`.vin, `app_nissan_vin`.date,\n",
    "                REPLACE(`app_nissan_vin`.color,' PRC','') AS 'color_code',\n",
    "                MIN(`app_nissan_vin`.date) AS 'MIN_date', MAX(`app_nissan_vin`.date) AS 'MAX_date',\n",
    "                COUNT(*)\n",
    "            FROM `app_nissan_vin`\n",
    "            WHERE `app_nissan_vin`.vin IN {}\n",
    "            GROUP BY color_code\n",
    "            ORDER BY COUNT(*) DESC) AS T2\n",
    "        LEFT JOIN `nissan_body_color`\n",
    "        ON T2.color_code = `nissan_body_color`.code;\n",
    "    '''.format(tuple(vin_list))\n",
    "    cur.execute(sql)\n",
    "    result = cur.fetchall()\n",
    "    result_list = []\n",
    "    if result:\n",
    "        for i in result:\n",
    "            print(i)\n",
    "            result_list.append(i)\n",
    "    cur.close()\n",
    "    conn.close()\n",
    "    return result_list\n",
    "\n",
    "model_id = 3146\n",
    "# 第一步，通过车型ID查可能的所有hash，并转化为列表，方便后续查询\n",
    "hash_list = select_hash(model_id)\n",
    "# 第二步，通过已查出的hash列表，查找所有的符合条件的VIN，\n",
    "vin_list = select_vin(hash_list)\n",
    "# 第三步，通过vin列表，给出所有VIN去重后的外观颜色信息\n",
    "model_id_color = select_vin_color_info(vin_list)\n",
    "print(model_id_color)\n",
    "\n"
   ]
  },
  {
   "cell_type": "code",
   "execution_count": 21,
   "metadata": {},
   "outputs": [
    {
     "name": "stdout",
     "output_type": "stream",
     "text": [
      "(('a', 1), ('c', 3), ('b', 2))\n",
      "[('c', 3), ('b', 2), ('a', 1)]\n"
     ]
    }
   ],
   "source": [
    "a = [['a',1],['c',3],['b',2]]\n",
    "a = (('a',1),('c',3),('b',2))\n",
    "b = sorted(a,key=lambda _:_[1],reverse=True)\n",
    "print(a)\n",
    "print(b)\n",
    "\n"
   ]
  }
 ],
 "metadata": {
  "kernelspec": {
   "display_name": "Python 3",
   "language": "python",
   "name": "python3"
  },
  "language_info": {
   "codemirror_mode": {
    "name": "ipython",
    "version": 3
   },
   "file_extension": ".py",
   "mimetype": "text/x-python",
   "name": "python",
   "nbconvert_exporter": "python",
   "pygments_lexer": "ipython3",
   "version": "3.6.5"
  }
 },
 "nbformat": 4,
 "nbformat_minor": 2
}
