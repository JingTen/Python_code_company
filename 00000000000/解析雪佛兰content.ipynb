{
 "cells": [
  {
   "cell_type": "code",
   "execution_count": 19,
   "metadata": {},
   "outputs": [
    {
     "name": "stdout",
     "output_type": "stream",
     "text": [
      "['SGM401-410-411', 2]\n"
     ]
    },
    {
     "data": {
      "text/plain": [
       "'SGM401-410-411'"
      ]
     },
     "execution_count": 19,
     "metadata": {},
     "output_type": "execute_result"
    }
   ],
   "source": [
    "\n",
    "a = ['SGM401-410-411',2]\n",
    "\n",
    "print(a)\n",
    "\n",
    "a[0].replace('/','-')\n",
    "\n",
    "\n",
    "\n"
   ]
  },
  {
   "cell_type": "code",
   "execution_count": null,
   "metadata": {},
   "outputs": [],
   "source": [
    "# 写入数据库\n",
    "def insert_into_mysql(lists,table_name):\n",
    "    conn = pymysql.connect(host='127.0.0.1', user='root', passwd='123456', db='MySQL', charset='utf8')\n",
    "\n",
    "    cur = conn.cursor()\n",
    "\n",
    "    cur.execute(\"USE gm_chevrolet\")\n",
    "    \n",
    "    try:\n",
    "        if table_name == 'vin_hash':\n",
    "            sql = \"\"\"INSERT INTO \n",
    "            vin_hash \n",
    "            (country,region,manufacturer,model,bodyType,constraintType,engineType,checkPos,modelYear,assemblyFactory,sequence,vin,series,body,productMonth,optionCodes,hash) \n",
    "            VALUES \n",
    "            ('%s','%s','%s','%s','%s','%s','%s','%s','%s','%s','%s','%s','%s','%s','%s','%s','%s');\"\"\"\n",
    "            % (lists[0], lists[1], lists[2], lists[3], lists[4], lists[5], lists[6], lists[7], lists[8], lists[9], lists[10], lists[11], lists[12], lists[13], lists[14], lists[15], lists[16])\n",
    "\n",
    "            cur.execute(sql)\n",
    "            conn.commit()\n",
    "\n",
    "        elif table_name == 'vin_codes':\n",
    "            for i in lists:\n",
    "\n",
    "                sql = \"\"\"INSERT INTO \n",
    "                vin_codes \n",
    "                (optionCode,descriptionCN,descriptionEN) \n",
    "                VALUES \n",
    "                ('%s','%s','%s');\"\"\"\n",
    "                % (i[0], i[1], i[2])\n",
    "\n",
    "                cur.execute(sql)\n",
    "                conn.commit()\n",
    "\n",
    "    finally:\n",
    "        cur.close()\n",
    "        conn.close()\n"
   ]
  },
  {
   "cell_type": "code",
   "execution_count": null,
   "metadata": {},
   "outputs": [],
   "source": [
    "# 优化字典处理\n",
    "import json\n",
    "import datetime\n",
    "\n",
    "time_start = datetime.datetime.now()\n",
    "content = '{\"country\":\"中华人民共和国\",\"region\":\"上海\",\"manufacturer\":\"  烟台生产基地（东岳整车南厂）制造\",\"model\":\"SGM308\",\"bodyType\":\"三厢四门乘用车\",\"constraintType\":\"手动安全带及驾驶员、前排乘客正面安全气囊\",\"engineType\":\"Engine gas,1.2L,L4(直列四缸)，MFI(多点燃油电控喷射)，DOHC(双顶置式凸轮轴)\",\"checkPos\":\"8\",\"modelYear\":\"2011\",\"assemblyFactory\":\"上汽通用汽车有限公司\",\"sequence\":\"035167\",\"vin\":\"LSGSA52S8BY035167\",\"series\":\"SR\",\"body\":\"69\",\"productMonth\":null,\"rpos\":[{\"optionCode\":\"01E\",\"descriptionCN\":\"座椅饰件颜色,深钛银色\",\"descriptionEN\":\"TRIM COLOR SEAT DK TITANIUM\"},{\"optionCode\":\"1AL\",\"descriptionCN\":\"车门板件饰件颜色,深钛银色/浅钛银色\",\"descriptionEN\":\"TRIM COLOR DR PANEL DK TITANIUM/LT TITANIUM\"},{\"optionCode\":\"4AH\",\"descriptionCN\":\"内饰,深钛银色/浅钛银色\",\"descriptionEN\":\"INTERIOR TRIM DK TITANIUM/LT TITANIUM\"},{\"optionCode\":\"A32\",\"descriptionCN\":\"前电动门窗\",\"descriptionEN\":\"WINDOW POWER OPERATED, FRT DR\"},{\"optionCode\":\"A70\",\"descriptionCN\":\"前排安全带张紧器\",\"descriptionEN\":\"RESTRAINT SEAT BELT TENSIONER, FRT\"},{\"optionCode\":\"AFA\",\"descriptionCN\":\"内饰配置#1\",\"descriptionEN\":\"INTERIOR TRIM CONFIG #1\"},{\"optionCode\":\"AK5\",\"descriptionCN\":\"驾驶员和乘客座椅安全气囊系统\",\"descriptionEN\":\"RESTRAINT SYSTEM SEAT, INFLATABLE, DRIVER &amp; PASS\"},{\"optionCode\":\"AR7\",\"descriptionCN\":\"座椅前托架,标准\",\"descriptionEN\":\"SEAT FRT BKT, STANDARD\"},{\"optionCode\":\"AU3\",\"descriptionCN\":\"侧门电动锁控制\",\"descriptionEN\":\"LOCK CONTROL SIDE DR, ELEC\"},{\"optionCode\":\"B65\",\"descriptionCN\":\"行李厢地板和侧壁饰面\",\"descriptionEN\":\"COVERING,FLOOR AND SIDE WALL,TRUNK COMPARTMENT\"},{\"optionCode\":\"BDR\",\"descriptionCN\":\"行李厢锁芯\",\"descriptionEN\":\"LOCK CYLINDER - RR COMPT\"},{\"optionCode\":\"C60\",\"descriptionCN\":\"空调前暖风、通风与空调系统,手动控制\",\"descriptionEN\":\"HVAC SYSTEM AIR CONDITIONER FRT, MAN CONTROLS\"},{\"optionCode\":\"CUU\",\"descriptionCN\":\"空调冷凝器定位设备\",\"descriptionEN\":\"EQUIPMENT A/C CONDENSER RELOCATE\"},{\"optionCode\":\"CZ2\",\"descriptionCN\":\"国家 中国\",\"descriptionEN\":\"COUNTRY CHINA\"},{\"optionCode\":\"D72\",\"descriptionCN\":\"车门黑色外把手\",\"descriptionEN\":\"HANDLE O/S, DR, BLACK\"},{\"optionCode\":\"DR6\",\"descriptionCN\":\"左侧&amp;右侧车外后视镜,遥控,电动,凸面镜,黑色\",\"descriptionEN\":\"MIRROR O/S LH &amp; RH, REMOTE CONTROL, ELECTRIC, CONVEX, BLACK\"},{\"optionCode\":\"E3K\",\"descriptionCN\":\"车门内把手,炭色\",\"descriptionEN\":\"HANDLE I/S, DR, CHARCOAL\"},{\"optionCode\":\"EEB\",\"descriptionCN\":\"座椅织物饰件,牛顿\",\"descriptionEN\":\"TRIM SEAT CLOTH, NEWTON\"},{\"optionCode\":\"FCN\",\"descriptionCN\":\"中国频率\",\"descriptionEN\":\"FREQUENCIES CHINA\"},{\"optionCode\":\"FFC\",\"descriptionCN\":\"车门饰件 技术纹理\",\"descriptionEN\":\"TRIM DOOR TECHNICAL GRAIN\"},{\"optionCode\":\"GIY\",\"descriptionCN\":\"外部主色,银河金属银\",\"descriptionEN\":\"PRIMARY COLOR EXTERIOR, GALAXY SILVER MET\"},{\"optionCode\":\"J41\",\"descriptionCN\":\"电动制动系统,前盘式,后鼓式,铸铁\",\"descriptionEN\":\"BRAKE SYSTEM PWR, FRT DISC, RR DRUM, CAST IRON\"},{\"optionCode\":\"LMU\",\"descriptionCN\":\"汽油发动机,4缸,L4, 1.2升,多点燃油喷射,通用大宇公司\",\"descriptionEN\":\"ENGINE GAS, 4 CYL, L4, 1.2L, MFI, DOHC, GMDAT\"},{\"optionCode\":\"MD3\",\"descriptionCN\":\"5速手动变速器,中国,1档3.462,5档0.756,扭矩120牛米\",\"descriptionEN\":\"TRANSMISSION MAN 5 SPD, CHINA, 3.462 1ST, 0.756 5TH, TORQUE120 NM\"},{\"optionCode\":\"N18\",\"descriptionCN\":\"车身内板保护装置N18\",\"descriptionEN\":\"PROTECTOR BODY, INNER PANELN18\"},{\"optionCode\":\"N40\",\"descriptionCN\":\"不变传动比动力转向\",\"descriptionEN\":\"STEERING POWER, NON-VARIABLE RATIO\"},{\"optionCode\":\"N62\",\"descriptionCN\":\"钢制车轮 13 X 5,油漆\",\"descriptionEN\":\"WHEEL 13 X 5, STEEL, PAINTED\"},{\"optionCode\":\"NT4\",\"descriptionCN\":\"欧洲经济共同体 05 排放系统\",\"descriptionEN\":\"EMISSION SYSTEM EEC 05\"},{\"optionCode\":\"Q97\",\"descriptionCN\":\"全轮胎 P175/70R13 BW NY/ST TL ALS\",\"descriptionEN\":\"TIRE ALL P175/70R13 BW NY/ST TL ALS\"},{\"optionCode\":\"QQ5\",\"descriptionCN\":\"备用轮胎和车轮,全尺寸,钢\",\"descriptionEN\":\"TIRE &amp; WHEEL SPARE, FULL SIZE, STEEL\"},{\"optionCode\":\"T2Y\",\"descriptionCN\":\"儿童座椅装置\",\"descriptionEN\":\"PROVISIONS SEAT, CHILD\"},{\"optionCode\":\"TH0\",\"descriptionCN\":\"托运零件合同标识\",\"descriptionEN\":\"IDENTIFICATION CONSIGNMENT PART, CONTRACT\"},{\"optionCode\":\"UAD\",\"descriptionCN\":\"前扬声器系统2,基础型\",\"descriptionEN\":\"SPEAKER SYSTEM 2, FRONT, BASE\"},{\"optionCode\":\"UM7\",\"descriptionCN\":\"调幅/调频立体声收音机,电子调谐收音机,包括时钟\",\"descriptionEN\":\"RADIO,AM/FM STEREO,ETR,INCLUDES CLOCK\"},{\"optionCode\":\"VRG\",\"descriptionCN\":\"座舱预装总成\",\"descriptionEN\":\"VALUE ADDED ASM COCKPIT\"},{\"optionCode\":\"VRH\",\"descriptionCN\":\"转向柱预装总成\",\"descriptionEN\":\"VALUE ADDED ASM STEERING COLUMN\"},{\"optionCode\":\"VRK\",\"descriptionCN\":\"车顶饰件预装总成\",\"descriptionEN\":\"VALUE ADDED ASM ROOF TRIM\"},{\"optionCode\":\"VRL\",\"descriptionCN\":\"前水平悬架预装总成\",\"descriptionEN\":\"VALUE ADDED ASM FRONT HORIZONTAL SUSPENSION\"},{\"optionCode\":\"VRM\",\"descriptionCN\":\"前垂直悬架预装总成\",\"descriptionEN\":\"VALUE ADDED ASM FRONT VERTICAL SUSPENSION\"},{\"optionCode\":\"VRN\",\"descriptionCN\":\"后悬架预装成\",\"descriptionEN\":\"VALUE ADDED ASM REAR SUSPENSION\"},{\"optionCode\":\"VRR\",\"descriptionCN\":\"轮胎和车轮预装总成\",\"descriptionEN\":\"VALUE ADDED ASM TIRES &amp; WHEELS\"},{\"optionCode\":\"Y7C\",\"descriptionCN\":\"转换执行提升到0级\",\"descriptionEN\":\"CONVERSION ACT PROMOTED TO ZERO LEVEL\"},{\"optionCode\":\"YNT\",\"descriptionCN\":\"生产厂编码：上海通用 烟台, 中国\",\"descriptionEN\":\"PLANT CODE SGM YANTAI, CHINA\"}]}'\n",
    "\n",
    "content = json.loads(content)\n",
    "\n",
    "vin_info_list = [ value for key,value in content.items() ]\n",
    "\n",
    "vin_info_list[-1] = [12,2,2]\n",
    "print(vin_info_list[-1])\n",
    "\n",
    "time_end = datetime.datetime.now()\n",
    "\n",
    "print((time_end-time_start))\n",
    "\n",
    "print(b)\n",
    " \n"
   ]
  },
  {
   "cell_type": "code",
   "execution_count": null,
   "metadata": {},
   "outputs": [],
   "source": [
    "import json\n",
    "import datetime\n",
    "\n",
    "time_start = datetime.datetime.now()\n",
    "students = '{\"country\":\"中华人民共和国\",\"region\":\"上海\",\"manufacturer\":\"  烟台生产基地（东岳整车南厂）制造\",\"model\":\"SGM308\",\"bodyType\":\"三厢四门乘用车\",\"constraintType\":\"手动安全带及驾驶员、前排乘客正面安全气囊\",\"engineType\":\"Engine gas,1.2L,L4(直列四缸)，MFI(多点燃油电控喷射)，DOHC(双顶置式凸轮轴)\",\"checkPos\":\"8\",\"modelYear\":\"2011\",\"assemblyFactory\":\"上汽通用汽车有限公司\",\"sequence\":\"035167\",\"vin\":\"LSGSA52S8BY035167\",\"series\":\"SR\",\"body\":\"69\",\"productMonth\":null,\"rpos\":[{\"optionCode\":\"01E\",\"descriptionCN\":\"座椅饰件颜色,深钛银色\",\"descriptionEN\":\"TRIM COLOR SEAT DK TITANIUM\"},{\"optionCode\":\"1AL\",\"descriptionCN\":\"车门板件饰件颜色,深钛银色/浅钛银色\",\"descriptionEN\":\"TRIM COLOR DR PANEL DK TITANIUM/LT TITANIUM\"},{\"optionCode\":\"4AH\",\"descriptionCN\":\"内饰,深钛银色/浅钛银色\",\"descriptionEN\":\"INTERIOR TRIM DK TITANIUM/LT TITANIUM\"},{\"optionCode\":\"A32\",\"descriptionCN\":\"前电动门窗\",\"descriptionEN\":\"WINDOW POWER OPERATED, FRT DR\"},{\"optionCode\":\"A70\",\"descriptionCN\":\"前排安全带张紧器\",\"descriptionEN\":\"RESTRAINT SEAT BELT TENSIONER, FRT\"},{\"optionCode\":\"AFA\",\"descriptionCN\":\"内饰配置#1\",\"descriptionEN\":\"INTERIOR TRIM CONFIG #1\"},{\"optionCode\":\"AK5\",\"descriptionCN\":\"驾驶员和乘客座椅安全气囊系统\",\"descriptionEN\":\"RESTRAINT SYSTEM SEAT, INFLATABLE, DRIVER &amp; PASS\"},{\"optionCode\":\"AR7\",\"descriptionCN\":\"座椅前托架,标准\",\"descriptionEN\":\"SEAT FRT BKT, STANDARD\"},{\"optionCode\":\"AU3\",\"descriptionCN\":\"侧门电动锁控制\",\"descriptionEN\":\"LOCK CONTROL SIDE DR, ELEC\"},{\"optionCode\":\"B65\",\"descriptionCN\":\"行李厢地板和侧壁饰面\",\"descriptionEN\":\"COVERING,FLOOR AND SIDE WALL,TRUNK COMPARTMENT\"},{\"optionCode\":\"BDR\",\"descriptionCN\":\"行李厢锁芯\",\"descriptionEN\":\"LOCK CYLINDER - RR COMPT\"},{\"optionCode\":\"C60\",\"descriptionCN\":\"空调前暖风、通风与空调系统,手动控制\",\"descriptionEN\":\"HVAC SYSTEM AIR CONDITIONER FRT, MAN CONTROLS\"},{\"optionCode\":\"CUU\",\"descriptionCN\":\"空调冷凝器定位设备\",\"descriptionEN\":\"EQUIPMENT A/C CONDENSER RELOCATE\"},{\"optionCode\":\"CZ2\",\"descriptionCN\":\"国家 中国\",\"descriptionEN\":\"COUNTRY CHINA\"},{\"optionCode\":\"D72\",\"descriptionCN\":\"车门黑色外把手\",\"descriptionEN\":\"HANDLE O/S, DR, BLACK\"},{\"optionCode\":\"DR6\",\"descriptionCN\":\"左侧&amp;右侧车外后视镜,遥控,电动,凸面镜,黑色\",\"descriptionEN\":\"MIRROR O/S LH &amp; RH, REMOTE CONTROL, ELECTRIC, CONVEX, BLACK\"},{\"optionCode\":\"E3K\",\"descriptionCN\":\"车门内把手,炭色\",\"descriptionEN\":\"HANDLE I/S, DR, CHARCOAL\"},{\"optionCode\":\"EEB\",\"descriptionCN\":\"座椅织物饰件,牛顿\",\"descriptionEN\":\"TRIM SEAT CLOTH, NEWTON\"},{\"optionCode\":\"FCN\",\"descriptionCN\":\"中国频率\",\"descriptionEN\":\"FREQUENCIES CHINA\"},{\"optionCode\":\"FFC\",\"descriptionCN\":\"车门饰件 技术纹理\",\"descriptionEN\":\"TRIM DOOR TECHNICAL GRAIN\"},{\"optionCode\":\"GIY\",\"descriptionCN\":\"外部主色,银河金属银\",\"descriptionEN\":\"PRIMARY COLOR EXTERIOR, GALAXY SILVER MET\"},{\"optionCode\":\"J41\",\"descriptionCN\":\"电动制动系统,前盘式,后鼓式,铸铁\",\"descriptionEN\":\"BRAKE SYSTEM PWR, FRT DISC, RR DRUM, CAST IRON\"},{\"optionCode\":\"LMU\",\"descriptionCN\":\"汽油发动机,4缸,L4, 1.2升,多点燃油喷射,通用大宇公司\",\"descriptionEN\":\"ENGINE GAS, 4 CYL, L4, 1.2L, MFI, DOHC, GMDAT\"},{\"optionCode\":\"MD3\",\"descriptionCN\":\"5速手动变速器,中国,1档3.462,5档0.756,扭矩120牛米\",\"descriptionEN\":\"TRANSMISSION MAN 5 SPD, CHINA, 3.462 1ST, 0.756 5TH, TORQUE120 NM\"},{\"optionCode\":\"N18\",\"descriptionCN\":\"车身内板保护装置N18\",\"descriptionEN\":\"PROTECTOR BODY, INNER PANELN18\"},{\"optionCode\":\"N40\",\"descriptionCN\":\"不变传动比动力转向\",\"descriptionEN\":\"STEERING POWER, NON-VARIABLE RATIO\"},{\"optionCode\":\"N62\",\"descriptionCN\":\"钢制车轮 13 X 5,油漆\",\"descriptionEN\":\"WHEEL 13 X 5, STEEL, PAINTED\"},{\"optionCode\":\"NT4\",\"descriptionCN\":\"欧洲经济共同体 05 排放系统\",\"descriptionEN\":\"EMISSION SYSTEM EEC 05\"},{\"optionCode\":\"Q97\",\"descriptionCN\":\"全轮胎 P175/70R13 BW NY/ST TL ALS\",\"descriptionEN\":\"TIRE ALL P175/70R13 BW NY/ST TL ALS\"},{\"optionCode\":\"QQ5\",\"descriptionCN\":\"备用轮胎和车轮,全尺寸,钢\",\"descriptionEN\":\"TIRE &amp; WHEEL SPARE, FULL SIZE, STEEL\"},{\"optionCode\":\"T2Y\",\"descriptionCN\":\"儿童座椅装置\",\"descriptionEN\":\"PROVISIONS SEAT, CHILD\"},{\"optionCode\":\"TH0\",\"descriptionCN\":\"托运零件合同标识\",\"descriptionEN\":\"IDENTIFICATION CONSIGNMENT PART, CONTRACT\"},{\"optionCode\":\"UAD\",\"descriptionCN\":\"前扬声器系统2,基础型\",\"descriptionEN\":\"SPEAKER SYSTEM 2, FRONT, BASE\"},{\"optionCode\":\"UM7\",\"descriptionCN\":\"调幅/调频立体声收音机,电子调谐收音机,包括时钟\",\"descriptionEN\":\"RADIO,AM/FM STEREO,ETR,INCLUDES CLOCK\"},{\"optionCode\":\"VRG\",\"descriptionCN\":\"座舱预装总成\",\"descriptionEN\":\"VALUE ADDED ASM COCKPIT\"},{\"optionCode\":\"VRH\",\"descriptionCN\":\"转向柱预装总成\",\"descriptionEN\":\"VALUE ADDED ASM STEERING COLUMN\"},{\"optionCode\":\"VRK\",\"descriptionCN\":\"车顶饰件预装总成\",\"descriptionEN\":\"VALUE ADDED ASM ROOF TRIM\"},{\"optionCode\":\"VRL\",\"descriptionCN\":\"前水平悬架预装总成\",\"descriptionEN\":\"VALUE ADDED ASM FRONT HORIZONTAL SUSPENSION\"},{\"optionCode\":\"VRM\",\"descriptionCN\":\"前垂直悬架预装总成\",\"descriptionEN\":\"VALUE ADDED ASM FRONT VERTICAL SUSPENSION\"},{\"optionCode\":\"VRN\",\"descriptionCN\":\"后悬架预装成\",\"descriptionEN\":\"VALUE ADDED ASM REAR SUSPENSION\"},{\"optionCode\":\"VRR\",\"descriptionCN\":\"轮胎和车轮预装总成\",\"descriptionEN\":\"VALUE ADDED ASM TIRES &amp; WHEELS\"},{\"optionCode\":\"Y7C\",\"descriptionCN\":\"转换执行提升到0级\",\"descriptionEN\":\"CONVERSION ACT PROMOTED TO ZERO LEVEL\"},{\"optionCode\":\"YNT\",\"descriptionCN\":\"生产厂编码：上海通用 烟台, 中国\",\"descriptionEN\":\"PLANT CODE SGM YANTAI, CHINA\"}]}'\n",
    "\n",
    "students = json.loads(students)\n",
    "\n",
    "\n",
    "lists = []\n",
    "for k,v in students.items():\n",
    "    lists.append(v)\n",
    "\n",
    "time_end = datetime.datetime.now()\n",
    "\n",
    "print((time_end-time_start))\n",
    "\n",
    "print(lists)"
   ]
  }
 ],
 "metadata": {
  "kernelspec": {
   "display_name": "Python 3",
   "language": "python",
   "name": "python3"
  },
  "language_info": {
   "codemirror_mode": {
    "name": "ipython",
    "version": 3
   },
   "file_extension": ".py",
   "mimetype": "text/x-python",
   "name": "python",
   "nbconvert_exporter": "python",
   "pygments_lexer": "ipython3",
   "version": "3.6.5"
  }
 },
 "nbformat": 4,
 "nbformat_minor": 2
}
