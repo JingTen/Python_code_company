{
 "cells": [
  {
   "cell_type": "code",
   "execution_count": 4,
   "metadata": {},
   "outputs": [],
   "source": [
    "from selenium import webdriver\n",
    "import requests\n",
    "import time\n",
    "\n",
    "# 设置请求头\n",
    "options = webdriver.ChromeOptions()\n",
    "options.add_argument('User-Agent=\"Mozilla/5.0 (Windows NT 10.0; Win64; x64) AppleWebKit/537.36 (KHTML, like Gecko) Chrome/74.0.3729.6 Safari/537.36\"')\n",
    "\n",
    "# 禁用GPU加速\n",
    "options.add_argument('--disable-gpu')\n",
    "driver = webdriver.Chrome(options=options)\n",
    "\n",
    "# 浏览器窗口最大化\n",
    "driver.maximize_window()\n",
    "\n",
    "url = 'http://www.vin114.net/web/webmemberuser/login.jhtml'\n",
    "username = '18474764360'\n",
    "password = 'qwe123'\n",
    "\n",
    "driver.get(url)\n",
    "\n",
    "# 用户名密码输入\n",
    "driver.find_element_by_xpath('.//input[@placeholder=\"已验证手机/邮箱/用户名\"]').clear()\n",
    "driver.find_element_by_xpath('.//input[@placeholder=\"已验证手机/邮箱/用户名\"]').send_keys(username)\n",
    "driver.find_element_by_xpath('.//input[@placeholder=\"请您填写登录密码\"]').clear()\n",
    "driver.find_element_by_xpath('.//input[@placeholder=\"请您填写登录密码\"]').send_keys(password)\n",
    "\n",
    "\n",
    "\n",
    "\n"
   ]
  }
 ],
 "metadata": {
  "kernelspec": {
   "display_name": "Python 3",
   "language": "python",
   "name": "python3"
  },
  "language_info": {
   "codemirror_mode": {
    "name": "ipython",
    "version": 3
   },
   "file_extension": ".py",
   "mimetype": "text/x-python",
   "name": "python",
   "nbconvert_exporter": "python",
   "pygments_lexer": "ipython3",
   "version": "3.6.5"
  }
 },
 "nbformat": 4,
 "nbformat_minor": 2
}
