{
 "cells": [
  {
   "cell_type": "code",
   "execution_count": 45,
   "metadata": {},
   "outputs": [
    {
     "name": "stdout",
     "output_type": "stream",
     "text": [
      "[['4322773', 'https://car3.autoimg.cn/cardfs/product/g24/M09/54/4A/t_autohomecar__ChcCL1rgYViAUFUxAAIrI3OSRQk758.jpg', '34516', 1, 'https://comm.app.autohome.com.cn/comm_v1.0.0/cars/dutusharedcontent-pm2-ss4834-sp34516-t1-imgid4322773.html', 'https://car3.autoimg.cn/cardfs/product/g24/M09/54/4A/1400x1050_autohomecar__ChcCL1rgYViAUFUxAAIrI3OSRQk758.jpg'], ['4322770', 'https://car2.autoimg.cn/cardfs/product/g24/M09/4A/E5/t_autohomecar__wKgHH1rgYVeAV3DxAAHyKNKbVPY827.jpg', '34516', 1, 'https://comm.app.autohome.com.cn/comm_v1.0.0/cars/dutusharedcontent-pm2-ss4834-sp34516-t1-imgid4322770.html', 'https://car2.autoimg.cn/cardfs/product/g24/M09/4A/E5/1400x1050_autohomecar__wKgHH1rgYVeAV3DxAAHyKNKbVPY827.jpg'], ['4322768', 'https://car2.autoimg.cn/cardfs/product/g24/M04/4A/E5/t_autohomecar__wKgHH1rgYVeABtB0AAJjikxmP0w202.jpg', '34516', 1, 'https://comm.app.autohome.com.cn/comm_v1.0.0/cars/dutusharedcontent-pm2-ss4834-sp34516-t1-imgid4322768.html', 'https://car2.autoimg.cn/cardfs/product/g24/M04/4A/E5/1400x1050_autohomecar__wKgHH1rgYVeABtB0AAJjikxmP0w202.jpg'], ['4322766', 'https://car2.autoimg.cn/cardfs/product/g24/M08/54/4A/t_autohomecar__ChcCL1rgYVaAbs_LAAI2OOwW8N0590.jpg', '34516', 1, 'https://comm.app.autohome.com.cn/comm_v1.0.0/cars/dutusharedcontent-pm2-ss4834-sp34516-t1-imgid4322766.html', 'https://car2.autoimg.cn/cardfs/product/g24/M08/54/4A/1400x1050_autohomecar__ChcCL1rgYVaAbs_LAAI2OOwW8N0590.jpg'], ['4322764', 'https://car2.autoimg.cn/cardfs/product/g24/M08/4A/E5/t_autohomecar__wKgHH1rgYVaAIdjwAAJrPLecebc737.jpg', '34516', 1, 'https://comm.app.autohome.com.cn/comm_v1.0.0/cars/dutusharedcontent-pm2-ss4834-sp34516-t1-imgid4322764.html', 'https://car2.autoimg.cn/cardfs/product/g24/M08/4A/E5/1400x1050_autohomecar__wKgHH1rgYVaAIdjwAAJrPLecebc737.jpg']]\n"
     ]
    }
   ],
   "source": [
    "# coding=utf-8\n",
    "'''\n",
    "通过参数：车系ID,车型ID,图片类别ID,外观颜色ID \n",
    "访问目标url,获取符合参数条件的json结果\n",
    "解析json结果，获取各车型带外观颜色属性图片url集合\n",
    "\n",
    "示例url\n",
    "https://cars.app.autohome.com.cn/carinfo_v9.1.0/cars/pics-pm2-ss4834-sp34516-cg1-cl1968-p1-s1000-isn0-ft1-v9.5.6.json?pluginversion=9.5.6\n",
    "'''\n",
    "import requests\n",
    "import time\n",
    "\n",
    "\n",
    "# 访问目标url，获取json\n",
    "def get_cars_pics_cg1_json(series_id,vehicle_id,color_id):\n",
    "    # 设置请求头\n",
    "    headers = {\n",
    "        'user-agent': 'Mozilla/5.0 (Windows NT 10.0; Win64; x64) AppleWebKit/537.36 (KHTML, like Gecko) Chrome/74.0.3729.6 Safari/537.36'\n",
    "    }\n",
    "    url = \"https://cars.app.autohome.com.cn/carinfo_v9.1.0/cars/pics-pm2-ss{}-sp{}-cg1-cl{}-p1-s1000-isn0-ft1-v9.5.6.json?pluginversion=9.5.6\".format(series_id,vehicle_id,color_id)\n",
    "    try:\n",
    "        response = requests.get(url,headers=headers,timeout=20)\n",
    "        time.sleep(1)\n",
    "        response.close()\n",
    "    except:\n",
    "        print('URL:%s 请求失败！！！' % url)\n",
    "        return None\n",
    "    else:\n",
    "        if response.status_code == 200:\n",
    "            json_response = response.json()\n",
    "            return json_response\n",
    "        else:\n",
    "            print('URL:%s 请求异常！！！' % url)\n",
    "            return None\n",
    "\n",
    "# 解析json\n",
    "def maintenance_cars_pics_cg1_json(json_response):\n",
    "    # 初始化图片信息列表\n",
    "    pic_info_list = []\n",
    "    # 提取json字典中的result结果值\n",
    "    result = json_response['result']\n",
    "    # 提取result字典中的图片列表piclist\n",
    "    piclist = result['piclist']\n",
    "    # 遍历piclist,提取重要属性\n",
    "    for pic in piclist:\n",
    "        pic_id = pic['id']\n",
    "        smallpic = pic['smallpic']\n",
    "        specid = pic['specid']\n",
    "        typeid = pic['typeid']\n",
    "        shareurl = pic['shareurl']\n",
    "        nowebppic = pic['nowebppic']\n",
    "\n",
    "        # 检验返回结果是否与传参一致（检验车型ID与类别ID）\n",
    "        if specid == vehicle_id and int(typeid) == 1:\n",
    "            pic_info_list.append([pic_id,smallpic,specid,typeid,shareurl,nowebppic])\n",
    "        else:\n",
    "            print('返回json中的图片列表信息与传参不一致！！！')\n",
    "            return None\n",
    "    return pic_info_list\n",
    "\n",
    "\n",
    "series_id = '4834'\n",
    "vehicle_id = '34516'\n",
    "color_id = '1968'\n",
    "\n",
    "json_response = get_cars_pics_cg1_json(series_id,vehicle_id,color_id)\n",
    "pic_info_list = maintenance_cars_pics_cg1_json(json_response)\n",
    "print(pic_info_list)\n",
    "\n",
    "\n"
   ]
  },
  {
   "cell_type": "code",
   "execution_count": 48,
   "metadata": {},
   "outputs": [
    {
     "name": "stdout",
     "output_type": "stream",
     "text": [
      "1\n",
      "a\n"
     ]
    }
   ],
   "source": [
    "[url,aaa] = ['1','a']\n",
    "print(url)\n",
    "print(aaa)\n",
    "\n"
   ]
  }
 ],
 "metadata": {
  "kernelspec": {
   "display_name": "Python 3",
   "language": "python",
   "name": "python3"
  },
  "language_info": {
   "codemirror_mode": {
    "name": "ipython",
    "version": 3
   },
   "file_extension": ".py",
   "mimetype": "text/x-python",
   "name": "python",
   "nbconvert_exporter": "python",
   "pygments_lexer": "ipython3",
   "version": "3.6.5"
  }
 },
 "nbformat": 4,
 "nbformat_minor": 2
}
