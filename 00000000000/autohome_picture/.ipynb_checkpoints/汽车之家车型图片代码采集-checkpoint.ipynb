{
 "cells": [
  {
   "cell_type": "code",
   "execution_count": 44,
   "metadata": {},
   "outputs": [
    {
     "name": "stdout",
     "output_type": "stream",
     "text": [
      "['4834', '34516', 'https://car.autohome.com.cn/pic/series-s34516/4834.html', <div class=\"search-pic\"><div class=\"search-pic-left\">按外观：</div><div class=\"search-pic-right\"><ul class=\"search-pic-colorul\"><li><a class=\"color-cont\" href=\"/pic/spec-34516-4014.html#pvareaid=2042220\"><em style=\"background:#000000\"></em><em class=\"carcolor-bg\"></em>极光黑<span class=\"font-grey999\">(110张)</span></a></li><li><a class=\"color-cont\" href=\"/pic/spec-34516-1968.html#pvareaid=2042220\"><em style=\"background:#F1F1F1\"></em><em class=\"carcolor-bg\"></em>珍珠白<span class=\"font-grey999\">(35张)</span></a></li><li><div class=\"color-more\"><a class=\"link-more\" data-target=\"#colordown\" data-toggle=\"overlay\" data-trigger=\"hover\" href=\"javascript:void(0);\">查看其它车型的颜色<i class=\"icon10 iog10-sjb\"></i></a><div class=\"dropdown width-01 fn-hide\" id=\"colordown\"><div class=\"dropdown-content\"><div class=\"colorcont\"><a class=\"color-cont\" href=\"/pic/series-t-4834-4014.html?pvareaid=2042220\"><em style=\"background:#000000\"></em><em class=\"carcolor-bg\"></em>极光黑<span class=\"font-grey999\">(110张)</span></a><a class=\"color-cont\" href=\"/pic/series-t-4834-1968.html?pvareaid=2042220\"><em style=\"background:#F1F1F1\"></em><em class=\"carcolor-bg\"></em>珍珠白<span class=\"font-grey999\">(96张)</span></a> </div></div></div></div></li></ul></div></div>]\n",
      "('4834', '34516', '4014', '#000000', '极光黑', '')\n",
      "('4834', '34516', '1968', '#F1F1F1', '珍珠白', '')\n"
     ]
    }
   ],
   "source": [
    "# coding=utf-8\n",
    "'''\n",
    "依据传递车系车型ID，获取每个车型ID所具有的外观颜色代码\n",
    "\n",
    "常规示例url:\n",
    "https://car.autohome.com.cn/pic/series-s34516/4834.html\n",
    "此车型暂无可选颜色url:\n",
    "https://car.autohome.com.cn/pic/series-s32794/4613.html\n",
    "\n",
    "'''\n",
    "import requests\n",
    "from bs4 import BeautifulSoup\n",
    "import re\n",
    "\n",
    "def get_vehicel_color(series_id,vehicel_id):\n",
    "    # 设置url，请求头\n",
    "    url = \"https://car.autohome.com.cn/pic/series-s%s/%s.html\" %(vehicel_id,series_id)\n",
    "    referer = \"https://www.autohome.com.cn/spec/%s/\" % vehicel_id\n",
    "\n",
    "    headers = {\n",
    "        'accept-encoding': 'gzip, deflate, br',\n",
    "        'user-agent': 'Mozilla/5.0 (Windows NT 10.0; Win64; x64) AppleWebKit/537.36 (KHTML, like Gecko) Chrome/74.0.3729.6 Safari/537.36',\n",
    "        'referer': referer\n",
    "    }\n",
    "    try:\n",
    "        response = requests.get(url,headers=headers,timeout=20)\n",
    "    # response.close()\n",
    "    except:\n",
    "        print('车系id：%s - 车型id：%s 访问未成功！！！' %(series_id,vehicel_id))\n",
    "        return None\n",
    "    else:\n",
    "        if response.status_code == 200:\n",
    "            bsObj = BeautifulSoup(response.text,'html.parser')\n",
    "            looks_bsObj = bsObj.find('div',text=\"按外观：\").parent\n",
    "            if looks_bsObj:\n",
    "                return [series_id,vehicel_id,url,looks_bsObj]\n",
    "            else:\n",
    "                print(\"页面无按外观选项\")\n",
    "                return [series_id,vehicel_id,url,'页面无按外观选项']\n",
    "        else:\n",
    "            print('页面未成功返回')\n",
    "            return None\n",
    "\n",
    "def maintenance_vehicel_color_info(series_id,vehicel_id,looks_bsObj):\n",
    "    # 结果列表初始化：\n",
    "    color_info_list = []\n",
    "    # 提取所有外观颜色列表，列表最后一个元素为查看其他车型的颜色，可忽略\n",
    "    looks_colors = looks_bsObj.find_all('li')\n",
    "    for color in looks_colors[:-1]:\n",
    "        # 判断li中是否有a标签\n",
    "        # 1.有：正常采集\n",
    "        if color.find('a'):\n",
    "            color_href = color.find('a').attrs['href']\n",
    "            color_id = re.compile('-[0-9]*.html').search(color_href).group().replace('-','').replace('.html','')\n",
    "            color_background = color.find('a').find_all('em')\n",
    "            color_background_style = color_background[0].attrs['style'].replace('background:','')\n",
    "            color_background_name = color.find('a').get_text()\n",
    "            color_background_name = color_background_name.replace(re.compile('\\([0-9]*张\\)').search(color_background_name).group(),'')\n",
    "\n",
    "            color_info_list.append([series_id,vehicel_id,color_id,color_background_style,color_background_name,''])\n",
    "\n",
    "        # 2.无：此车型暂可选颜色(只有一种颜色，但页面未提供颜色代码及名称)\n",
    "        elif color.get_text() == '此车型暂无可选颜色':\n",
    "            print('车系id：%s - 车型id：%s 此车型暂无可选颜色' %(series_id,vehicel_id))\n",
    "            color_info_list.append([series_id,vehicel_id,'-','-','-','此车型暂无可选颜色'])\n",
    "    return color_info_list\n",
    "\n",
    "        \n",
    "series_id = \"4834\"\n",
    "vehicel_id = \"34516\"\n",
    "\n",
    "# series_id = '4613'\n",
    "# vehicel_id = '32794'\n",
    "\n",
    "vehicel_color = get_vehicel_color(series_id,vehicel_id)\n",
    "if vehicel_color and vehicel_color[3] != '页面无按外观选项':\n",
    "    print(vehicel_color)\n",
    "    vehicel_color_info = maintenance_vehicel_color_info(series_id,vehicel_id,vehicel_color[3])\n",
    "    for i in vehicel_color_info:\n",
    "        print(tuple(i))\n"
   ]
  },
  {
   "cell_type": "code",
   "execution_count": 24,
   "metadata": {},
   "outputs": [
    {
     "name": "stdout",
     "output_type": "stream",
     "text": [
      "<_sre.SRE_Match object; span=(3, 9), match='(110张)'>\n",
      "(110张)\n",
      "3\n",
      "9\n",
      "(3, 9) \n",
      "\n",
      "4014\n"
     ]
    }
   ],
   "source": [
    "series_id = \"4834\"\n",
    "vehicel_id = \"34516\"\n",
    "\n",
    "# series_id = '4613'\n",
    "# vehicel_id = '32794'"
   ]
  }
 ],
 "metadata": {
  "kernelspec": {
   "display_name": "Python 3",
   "language": "python",
   "name": "python3"
  },
  "language_info": {
   "codemirror_mode": {
    "name": "ipython",
    "version": 3
   },
   "file_extension": ".py",
   "mimetype": "text/x-python",
   "name": "python",
   "nbconvert_exporter": "python",
   "pygments_lexer": "ipython3",
   "version": "3.6.5"
  }
 },
 "nbformat": 4,
 "nbformat_minor": 2
}
