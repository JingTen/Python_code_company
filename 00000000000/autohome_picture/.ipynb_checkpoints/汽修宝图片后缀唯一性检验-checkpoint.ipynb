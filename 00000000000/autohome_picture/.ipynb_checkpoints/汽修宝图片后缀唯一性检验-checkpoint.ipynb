{
 "cells": [
  {
   "cell_type": "code",
   "execution_count": 1,
   "metadata": {},
   "outputs": [],
   "source": [
    "'''\n",
    "检验已采集至汽修宝APP的车型图片url后缀是否唯一独立\n",
    "'''\n",
    "import pymysql\n",
    "import re\n",
    "\n",
    "# 链接汽修宝采集图片数据库\n",
    "def select_pics_url_from_MySQL(table_name):\n",
    "    conn = pymysql.connect(host='127.0.0.1', user='root', passwd='123456', db='MySQL', charset='utf8')\n",
    "    cur = conn.cursor()\n",
    "    cur.execute('USE autohome')\n",
    "    sql = '''\n",
    "        SELECT DISTINCT `model_id`,`img_url`,`oss_url`\n",
    "        FROM %s\n",
    "        WHERE `type` = 1 AND `oss_url` != '';\n",
    "    ''' % table_name\n",
    "    cur.execute(sql)\n",
    "    result = cur.fetchall()\n",
    "    cur.close()\n",
    "    conn.close()\n",
    "    result_list = []\n",
    "    if result:\n",
    "        for i in result:\n",
    "            result_list.append(list(i))\n",
    "    return result_list\n",
    "\n",
    "# 正则处理图片url,提取后缀关键code\n",
    "def re_get_url_code(url):\n",
    "    re_result = re.compile(r'/[\\w_-]+(.png|.jpg)$').search(url)\n",
    "    if re_result:\n",
    "        re_result = re_result.group()\n",
    "        # 处理前部/\n",
    "        re_result = re_result.replace('/y_','').replace('/w_','').replace('/t_','').replace('/','')\n",
    "        # 处理可能出现的autohomecar__\n",
    "        re_result = re_result.replace('autohomecar__','')\n",
    "        # 处理后部.jpg .png\n",
    "        re_result = re_result.replace('.jpg','').replace('.png','')\n",
    "        return re_result\n",
    "    else:\n",
    "        print('正则表达式无法匹配')\n",
    "        return None\n",
    "\n",
    "table_name = 'vehicle_pics'\n",
    "select_pics_url = select_pics_url_from_MySQL(table_name)\n",
    "            \n"
   ]
  },
  {
   "cell_type": "code",
   "execution_count": 2,
   "metadata": {},
   "outputs": [],
   "source": [
    "# 新增url_code至汽修宝列表\n",
    "qxb_list = []\n",
    "for i in select_pics_url:\n",
    "    re_result = re_get_url_code(i[1])\n",
    "    if re_result:\n",
    "        i.append(re_result)\n",
    "        qxb_list.append(i)\n",
    "    else:\n",
    "        print('正则处理有误')"
   ]
  },
  {
   "cell_type": "code",
   "execution_count": 7,
   "metadata": {},
   "outputs": [
    {
     "name": "stdout",
     "output_type": "stream",
     "text": [
      "368637\n"
     ]
    }
   ],
   "source": [
    "# 汽修宝数据转字典\n",
    "qxb_dict = {}\n",
    "for j in qxb_list:\n",
    "    if j[2] in qxb_dict:\n",
    "        print('oss_url有重复',j)\n",
    "    else:\n",
    "        # 为每个oss_url设置一个字典，并给定model_id,img_url,url_code\n",
    "        qxb_dict[j[2]]={}\n",
    "        qxb_dict[j[2]]['model_id'] = j[0]\n",
    "        qxb_dict[j[2]]['img_url'] = j[1]\n",
    "        qxb_dict[j[2]]['url_code'] = j[-1]\n",
    "print(len(qxb_dict))\n",
    "        \n"
   ]
  },
  {
   "cell_type": "code",
   "execution_count": 12,
   "metadata": {},
   "outputs": [
    {
     "name": "stdout",
     "output_type": "stream",
     "text": [
      "111793\n"
     ]
    }
   ],
   "source": [
    "# 数据库查询汽车之家多外观颜色图片url\n",
    "def select_more_color_url_from_MySQL():\n",
    "    conn = pymysql.connect(host='127.0.0.1', user='root', passwd='123456', db='MySQL', charset='utf8')\n",
    "    cur = conn.cursor()\n",
    "    cur.execute('USE autohome_carcolor')\n",
    "    # 查多外观颜色图片url\n",
    "    sql = '''\n",
    "        SELECT \n",
    "            cars_pics_cg1_info.id,\n",
    "            cars_pics_cg1_info.vehicle_id,\n",
    "            cars_pics_cg1_info.color_id,\n",
    "            cars_pics_cg1_info.smallpic,\n",
    "            carcolor_info.color_name\n",
    "        FROM cars_pics_cg1_info\n",
    "        LEFT JOIN carcolor_info\n",
    "        ON \n",
    "            cars_pics_cg1_info.vehicle_id = carcolor_info.vehicle_id\n",
    "            AND cars_pics_cg1_info.color_id = carcolor_info.color_id;\n",
    "    '''\n",
    "    cur.execute(sql)\n",
    "    result = cur.fetchall()\n",
    "    cur.close()\n",
    "    conn.close()\n",
    "    result_list = []\n",
    "    if result:\n",
    "        for i in result:\n",
    "            result_list.append(list(i))\n",
    "    return result_list\n",
    "\n",
    "result_list = select_more_color_url_from_MySQL()\n",
    "print(len(result_list))\n"
   ]
  },
  {
   "cell_type": "code",
   "execution_count": 15,
   "metadata": {},
   "outputs": [
    {
     "name": "stdout",
     "output_type": "stream",
     "text": [
      "111793\n"
     ]
    }
   ],
   "source": [
    "# 新增url_code至汽车之家列表\n",
    "autohome_list = []\n",
    "for i in result_list:\n",
    "    re_result = re_get_url_code(i[3])\n",
    "    if re_result:\n",
    "        i.append(re_result)\n",
    "        autohome_list.append(i)\n",
    "    else:\n",
    "        print('正则处理有误')\n",
    "\n",
    "print(len(autohome_list))"
   ]
  },
  {
   "cell_type": "code",
   "execution_count": 21,
   "metadata": {},
   "outputs": [
    {
     "name": "stdout",
     "output_type": "stream",
     "text": [
      "111793\n",
      "{'vehicle_id': '14888', 'color_id': '241', 'smallpic': 'https://car0.autoimg.cn/upload/2014/12/2/t_20141202175126459011.jpg', 'color_name': '糖果白', 'url_code': '20141202175126459011'}\n"
     ]
    }
   ],
   "source": [
    "# 汽车之家数据转字典\n",
    "autohome_dict = {}\n",
    "for j in autohome_list:\n",
    "    if j[0] in autohome_dict:\n",
    "        print('id有重复',j)\n",
    "    else:\n",
    "        # 为每个序号id设置一个字典，并给定vehicle_id,color_id,smallpic,color_name,url_code\n",
    "        autohome_dict[j[0]]={}\n",
    "        autohome_dict[j[0]]['vehicle_id'] = j[1]\n",
    "        autohome_dict[j[0]]['color_id'] = j[2]\n",
    "        autohome_dict[j[0]]['smallpic'] = j[3]\n",
    "        autohome_dict[j[0]]['color_name'] = j[4]\n",
    "        autohome_dict[j[0]]['url_code'] = j[-1]\n",
    "print(len(autohome_dict))\n",
    "print(autohome_dict[100])"
   ]
  },
  {
   "cell_type": "code",
   "execution_count": null,
   "metadata": {},
   "outputs": [],
   "source": [
    "# 实现匹配\n",
    "# 匹配结果列表初始化\n",
    "match_result_lists = []\n",
    "# 遍历汽车之家字典\n",
    "for k,v in autohome_dict.items():\n",
    "    # 遍历汽修宝字典\n",
    "    for kk,vv in qxb_dict.items():\n",
    "        # 判断车型ID与url_code是否一致\n",
    "        if v['vehicle_id'] == vv['model_id'] and v['url_code'] == vv['url_code']:\n",
    "            num_id = k\n",
    "            vehicle_id = v['vehicle_id']\n",
    "            color_id = v['color_id']\n",
    "            smallpic = v['smallpic']\n",
    "            color_name = v['color_name']\n",
    "            img_url = vv['img_url']\n",
    "            oos_url = kk\n",
    "            match_result_lists.append([num_id,vehicle_id,color_id,smallpic,color_name,img_url,oos_url])\n",
    "print(len(match_result_lists))\n",
    "            "
   ]
  }
 ],
 "metadata": {
  "kernelspec": {
   "display_name": "Python 3",
   "language": "python",
   "name": "python3"
  },
  "language_info": {
   "codemirror_mode": {
    "name": "ipython",
    "version": 3
   },
   "file_extension": ".py",
   "mimetype": "text/x-python",
   "name": "python",
   "nbconvert_exporter": "python",
   "pygments_lexer": "ipython3",
   "version": "3.6.5"
  }
 },
 "nbformat": 4,
 "nbformat_minor": 2
}
