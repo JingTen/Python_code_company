{
 "cells": [
  {
   "cell_type": "code",
   "execution_count": 4,
   "metadata": {},
   "outputs": [
    {
     "name": "stdout",
     "output_type": "stream",
     "text": [
      "111793\n",
      "开始更新\n"
     ]
    }
   ],
   "source": [
    "# coding=utf-8\n",
    "import re\n",
    "import pymysql\n",
    "\n",
    "\n",
    "# 数据库查询汽车之家多外观颜色图片url\n",
    "def select_more_color_url_from_MySQL():\n",
    "    conn = pymysql.connect(host='127.0.0.1', user='root', passwd='123456', db='MySQL', charset='utf8')\n",
    "    cur = conn.cursor()\n",
    "    cur.execute('USE autohome_carcolor')\n",
    "    # 查多外观颜色图片url\n",
    "    sql = '''\n",
    "        SELECT DISTINCT id,smallpic\n",
    "        FROM cars_pics_cg1_info \n",
    "    '''\n",
    "    cur.execute(sql)\n",
    "    result = cur.fetchall()\n",
    "    cur.close()\n",
    "    conn.close()\n",
    "    result_list = []\n",
    "    if result:\n",
    "        for i in result:\n",
    "            result_list.append(list(i))\n",
    "    return result_list\n",
    "\n",
    "# 正则处理图片url,提取后缀关键code\n",
    "def re_get_url_code(url):\n",
    "    re_result = re.compile(r'/[\\w_-]+(.png|.jpg)$').search(url)\n",
    "    if re_result:\n",
    "        re_result = re_result.group()\n",
    "        # 处理前部/\n",
    "        re_result = re_result.replace('/y_', '').replace('/w_', '').replace('/t_', '').replace('/', '')\n",
    "        # 处理可能出现的autohomecar__\n",
    "        re_result = re_result.replace('autohomecar__', '')\n",
    "        # 处理后部.jpg .png\n",
    "        re_result = re_result.replace('.jpg', '').replace('.png', '')\n",
    "        return re_result\n",
    "    else:\n",
    "        print('正则表达式无法匹配')\n",
    "        return None\n",
    "    \n",
    "# 更新url_code至汽车之家\n",
    "def autohome_update_url_code_to_MySQL(update_list):\n",
    "    conn = pymysql.connect(host='127.0.0.1', user='root', passwd='123456', db='MySQL', charset='utf8')\n",
    "    cur = conn.cursor()\n",
    "    cur.execute('USE autohome_carcolor')\n",
    "    sql = '''\n",
    "        UPDATE `cars_pics_cg1_info`\n",
    "        SET url_code = %s\n",
    "        WHERE id = %s\n",
    "    '''\n",
    "    rows = cur.executemany(sql, update_list)\n",
    "    conn.commit()\n",
    "    cur.close()\n",
    "    conn.close()\n",
    "    \n",
    "    \n",
    "    \n",
    "select_more_color_url_result = select_more_color_url_from_MySQL()\n",
    "print(len(select_more_color_url_result))\n",
    "\n",
    "update_list1 = []\n",
    "for j in select_more_color_url_result:\n",
    "    n_id = j[0]\n",
    "    smallpic = j[1]\n",
    "    # 正则处理\n",
    "    re_result1 = re_get_url_code(smallpic)\n",
    "    update_list1.append((re_result1,n_id))\n",
    "\n",
    "# 更新\n",
    "print('开始更新')\n",
    "autohome_update_url_code_to_MySQL(update_list1)\n",
    "\n",
    "\n"
   ]
  }
 ],
 "metadata": {
  "kernelspec": {
   "display_name": "Python 3",
   "language": "python",
   "name": "python3"
  },
  "language_info": {
   "codemirror_mode": {
    "name": "ipython",
    "version": 3
   },
   "file_extension": ".py",
   "mimetype": "text/x-python",
   "name": "python",
   "nbconvert_exporter": "python",
   "pygments_lexer": "ipython3",
   "version": "3.6.5"
  }
 },
 "nbformat": 4,
 "nbformat_minor": 2
}
