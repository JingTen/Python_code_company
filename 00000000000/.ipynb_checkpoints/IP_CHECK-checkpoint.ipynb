{
 "cells": [
  {
   "cell_type": "code",
   "execution_count": 24,
   "metadata": {},
   "outputs": [
    {
     "name": "stderr",
     "output_type": "stream",
     "text": [
      "C:\\ProgramData\\Anaconda3\\lib\\site-packages\\ipykernel_launcher.py:41: DeprecationWarning: use options instead of chrome_options\n"
     ]
    },
    {
     "name": "stdout",
     "output_type": "stream",
     "text": [
      "Are you deal with that? (y/n)>>>>>>y\n"
     ]
    }
   ],
   "source": [
    "'''\n",
    "别克IP受限\n",
    "通过河南代理IP访问别克EPC\n",
    "手动获取cookie\n",
    "'''\n",
    "\n",
    "import requests\n",
    "import telnetlib\n",
    "from selenium import webdriver\n",
    "import time\n",
    "import json\n",
    "\n",
    "\n",
    "# 检验IP是否有效\n",
    "def check_ip(ip,port):\n",
    "    try:\n",
    "        telnetlib.Telnet(ip,port,timeout=3)\n",
    "        return True\n",
    "    except:\n",
    "        return False\n",
    "'''\n",
    "ip = \"114.228.6.26\"\n",
    "port = \"4276\"\n",
    "\n",
    "# 检测代理IP是否可用\n",
    "ip_can_do_work = check_ip(ip,port)\n",
    "if ip_can_do_work == False:\n",
    "    print('程序中断')\n",
    "    exit()\n",
    "else:\n",
    "    pass\n",
    "'''\n",
    "# selenium模拟登入获取cookie\n",
    "def get_new_header():\n",
    "    # 设置请求头\n",
    "    options = webdriver.ChromeOptions()\n",
    "    options.add_argument('x-resource-code=\"decodeVin\"')\n",
    "    options.add_argument('User-Agent=\"Mozilla/5.0 (Windows NT 10.0; Win64; x64) AppleWebKit/537.36 (KHTML, like Gecko) Chrome/74.0.3729.6 Safari/537.36\"')\n",
    "    #options.add_argument('--proxy-server=http://%s:%s' %(ip,port))\n",
    "\n",
    "    driver = webdriver.Chrome(chrome_options=options)\n",
    "\n",
    "    # 浏览器窗口最大化\n",
    "    driver.maximize_window()\n",
    "\n",
    "    # 链接登入\n",
    "    url = 'http://dp.saic-gm.com/dp/'\n",
    "    username = 'dn1zbp'\n",
    "    password = 'Xfl888888'\n",
    "\n",
    "\n",
    "    driver.get(url)\n",
    "    # 用户名密码输入\n",
    "    driver.find_element_by_xpath('.//input[@placeholder=\"用户名\"]').clear()\n",
    "    driver.find_element_by_xpath('.//input[@placeholder=\"用户名\"]').send_keys(username)\n",
    "    driver.find_element_by_xpath('.//input[@placeholder=\"密码\"]').clear()\n",
    "    driver.find_element_by_xpath('.//input[@placeholder=\"密码\"]').send_keys(password)\n",
    "\n",
    "    # 手动输入验证码并登入\n",
    "    time.sleep(15)\n",
    "\n",
    "    # 手动点击至可需获取的cookies网页后，手动输入确认\n",
    "    deal_with = input('Are you deal with that? (y/n)>>>>>>')\n",
    "\n",
    "    if deal_with == 'y':\n",
    "        pass\n",
    "\n",
    "    cookie = driver.get_cookies()\n",
    "\n",
    "    for i in cookie:\n",
    "        name = i['name']\n",
    "        if name == \"SGM_OAUTH_CODE\":\n",
    "            SGM_OAUTH_CODE_value = i['value']\n",
    "        elif name == \"dealer_mid:prod:\":\n",
    "            dealer_mid_value = i['value']\n",
    "    cookie_value = 'SGM_OAUTH_CODE=%s; dealer_mid:prod:=%s' %(SGM_OAUTH_CODE_value,dealer_mid_value)\n",
    "\n",
    "    # 设置request headers\n",
    "    headers = {\n",
    "        'Host': 'dpj.saic-gm.com',\n",
    "        'Connection': 'keep-alive',\n",
    "        'x-resource-code': 'decodeVin',\n",
    "        'x-app-version': '4.0.0.1',\n",
    "        'oe-version-no': 'V4.0.0.1',\n",
    "        'x-app-code': 'EPCOLOE',\n",
    "        #'x-track-code': 'fbd60425-37c5-441f-b9ab-efa2aebdd343',\n",
    "        'User-Agent': 'Mozilla/5.0 (Windows NT 10.0; Win64; x64) AppleWebKit/537.36 (KHTML, like Gecko) Chrome/74.0.3729.6 Safari/537.36',\n",
    "        'Accept': 'application/json, text/plain, */*',\n",
    "        'x-Requested-With': 'XMLHttpRequest',\n",
    "        'Accept-Encoding': 'gzip, deflate, br',\n",
    "        'Accept-Language': 'zh-CN,zh;q=0.9',\n",
    "        'Cookie': 'SGM_OAUTH_CODE=fc65ccfec9408c9b0fe7034b994f95a6; dealer_mid:prod:=24461b7d-0bc1-4b39-bc9c-215f3acd44c7'\n",
    "    }\n",
    "\n",
    "    headers['Cookie'] = cookie_value\n",
    "    \n",
    "    return headers\n",
    "\n",
    "\n",
    "headers = get_new_header()\n",
    "\n",
    "\n",
    "\n",
    "\n",
    "\n",
    "\n",
    "\n",
    "\n"
   ]
  },
  {
   "cell_type": "code",
   "execution_count": 25,
   "metadata": {},
   "outputs": [
    {
     "name": "stdout",
     "output_type": "stream",
     "text": [
      "{'Host': 'dpj.saic-gm.com', 'Connection': 'keep-alive', 'x-resource-code': 'decodeVin', 'x-app-version': '4.0.0.1', 'oe-version-no': 'V4.0.0.1', 'x-app-code': 'EPCOLOE', 'User-Agent': 'Mozilla/5.0 (Windows NT 10.0; Win64; x64) AppleWebKit/537.36 (KHTML, like Gecko) Chrome/74.0.3729.6 Safari/537.36', 'Accept': 'application/json, text/plain, */*', 'x-Requested-With': 'XMLHttpRequest', 'Accept-Encoding': 'gzip, deflate, br', 'Accept-Language': 'zh-CN,zh;q=0.9', 'Cookie': 'SGM_OAUTH_CODE=7022750823b5fb42d026fdf6be2e9ae0; dealer_mid:prod:=cceb1167-32d9-43fe-bd1a-724e9752664e'}\n"
     ]
    }
   ],
   "source": [
    "print(headers)\n",
    "\n"
   ]
  },
  {
   "cell_type": "code",
   "execution_count": 22,
   "metadata": {},
   "outputs": [
    {
     "name": "stdout",
     "output_type": "stream",
     "text": [
      "{'Host': 'dpj.saic-gm.com', 'Connection': 'keep-alive', 'x-resource-code': 'decodeVin', 'x-app-version': '4.0.0.1', 'oe-version-no': 'V4.0.0.1', 'x-app-code': 'EPCOLOE', 'User-Agent': 'Mozilla/5.0 (Windows NT 10.0; Win64; x64) AppleWebKit/537.36 (KHTML, like Gecko) Chrome/74.0.3729.6 Safari/537.36', 'Accept': 'application/json, text/plain, */*', 'x-Requested-With': 'XMLHttpRequest', 'Accept-Encoding': 'gzip, deflate, br', 'Accept-Language': 'zh-CN,zh;q=0.9', 'Cookie': 'SGM_OAUTH_CODE=a4a6048263586c79f0f2fe29a3e7c6a2; dealer_mid:prod:=6739755c-cf2e-41af-b8e6-6bb49d332738'}\n",
      "('{\"country\":\"中华人民共和国\",\"region\":\"上海\",\"manufacturer\":\"  沈阳生产基地（北盛二）制造\",\"model\":\"D15\",\"bodyType\":\"三厢四门乘用车\",\"constraintType\":\"手动安全带及驾驶员、前排乘客正面及侧面安全气囊\",\"engineType\":\"Engine gas,1.8L，L4，DOHC,MFI\",\"checkPos\":\"6\",\"modelYear\":\"2012\",\"assemblyFactory\":\"上汽通用汽车有限公司\",\"sequence\":\"163558\",\"vin\":\"LSGPC54R6CF163558\",\"series\":\"PD\",\"body\":\"69\",\"productMonth\":\"2012-09-05\",\"rpos\":[{\"optionCode\":\"01S\",\"descriptionCN\":\"座椅饰件颜色,中钛银色\",\"descriptionEN\":\"TRIM COLOR SEAT MED TITANIUM\"},{\"optionCode\":\"1AR\",\"descriptionCN\":\"门板饰件颜色,中钛银色\",\"descriptionEN\":\"TRIM COLOR DR PANEL MED TITANIUM\"},{\"optionCode\":\"2H0\",\"descriptionCN\":\"汽油发动机,4缸,1.8升,多点燃油喷射,103千瓦,双顶置凸轮轴\",\"descriptionEN\":\"ENGINE GAS, 4 CYL, 1.8L, MFI, 103KW, DOHC\"},{\"optionCode\":\"4AQ\",\"descriptionCN\":\"内饰,极深灰色\",\"descriptionEN\":\"INTERIOR TRIM V DK PEWTER\"},{\"optionCode\":\"6X1\",\"descriptionCN\":\"左前侧部件非计算机选择悬架\",\"descriptionEN\":\"COMPONENT FRT LH NON-COMPUTER SEL SUSP\"},{\"optionCode\":\"7X1\",\"descriptionCN\":\"右前侧部件非计算机选择悬架\",\"descriptionEN\":\"COMPONENT FRT RH NON-COMPUTER SEL SUSP\"},{\"optionCode\":\"8X2\",\"descriptionCN\":\"左后侧部件非计算机选择悬架\",\"descriptionEN\":\"COMPONENT RR LH NON-COMPUTER SEL SUSP\"},{\"optionCode\":\"9X2\",\"descriptionCN\":\"右后侧部件非计算机选择悬架\",\"descriptionEN\":\"COMPONENT RR RH NON-COMPUTER SEL SUSP\"},{\"optionCode\":\"A51\",\"descriptionCN\":\"座椅前托架,顾客定制\",\"descriptionEN\":\"SEAT FRT BKT, CUSTOM\"},{\"optionCode\":\"A64\",\"descriptionCN\":\"长条座椅, 双重折叠(2+1)\",\"descriptionEN\":\"BENCH SEAT, DOUBLE FOLDING(2+1)\"},{\"optionCode\":\"AED\",\"descriptionCN\":\"乘客侧电动车窗操作,快速下降\",\"descriptionEN\":\"WINDOW POWER OPERATED, PASSENGER, EXPRESS DOWN\"},{\"optionCode\":\"AEQ\",\"descriptionCN\":\"驾驶员侧后电动车窗操作,快速下降\",\"descriptionEN\":\"WINDOW POWER OPERATED, RR DRS, EXPRESS DOWN\"},{\"optionCode\":\"AFC\",\"descriptionCN\":\"内饰配置#3\",\"descriptionEN\":\"INTERIOR TRIM CONFIG #3\"},{\"optionCode\":\"AG5\",\"descriptionCN\":\"乘客座椅2向手动调节器\",\"descriptionEN\":\"ADJUSTER PASS ST MANUAL, 2 WAY\"},{\"optionCode\":\"AH3\",\"descriptionCN\":\"驾驶员座椅4向手动前调节器\",\"descriptionEN\":\"ADJUSTER FRT ST MANUAL, 4 WAY, DRIVER\"},{\"optionCode\":\"AHN\",\"descriptionCN\":\"保护装置锁闩\",\"descriptionEN\":\"RESTRAINT PROVISIONS LATCH\"},{\"optionCode\":\"AJC\",\"descriptionCN\":\"前排座椅头枕上/下调节器\",\"descriptionEN\":\"RESTRAINT HEAD, FRT SEAT, UP/DOWN ADJUSTMENT\"},{\"optionCode\":\"AJG\",\"descriptionCN\":\"座椅安全气囊系统,驾驶员侧和乘客侧,前排座椅侧单阶\",\"descriptionEN\":\"RESTRAINT SYSTEM SEAT, INFLATABLE, DRIVER &amp; PASS, FRT &amp; SEAT SIDE SINGLE STAGE\"},{\"optionCode\":\"AKN\",\"descriptionCN\":\"有色型车窗\",\"descriptionEN\":\"WINDOW TYPE TINTED\"},{\"optionCode\":\"AKW\",\"descriptionCN\":\"着色风窗玻璃\",\"descriptionEN\":\"WINDSHIELD TYPE TINTED\"},{\"optionCode\":\"AU3\",\"descriptionCN\":\"侧门电动锁控制\",\"descriptionEN\":\"LOCK CONTROL SIDE DR, ELEC\"},{\"optionCode\":\"AWO\",\"descriptionCN\":\"后排座椅安全带保护系统, 后排, 3点式, 中间\",\"descriptionEN\":\"RESTRAINT SYSTEM RR SEAT BELT, REAR, 3 POINT, CTR\"},{\"optionCode\":\"AXG\",\"descriptionCN\":\"驾驶员侧电动车窗操作,快速上升/下降\",\"descriptionEN\":\"WINDOW POWER OPERATED-EXPRESS DRIVER UP/DOWN\"},{\"optionCode\":\"AXJ\",\"descriptionCN\":\"车辆类型 乘用车\",\"descriptionEN\":\"VEHICLE TYPE PASSENGER CAR\"},{\"optionCode\":\"B76\",\"descriptionCN\":\"仪表组件颜色,黑色\",\"descriptionEN\":\"CLUSTER COLOR INST, BLACK\"},{\"optionCode\":\"BAH\",\"descriptionCN\":\"设备安全系统,固定,步骤2\",\"descriptionEN\":\"EQUIPMENT SECURITY SYSTEM, IMMOBILIZATION, STEP TWO\"},{\"optionCode\":\"C49\",\"descriptionCN\":\"后窗电动除雾器\",\"descriptionEN\":\"DEFOGGER RR WINDOW, ELECTRIC\"},{\"optionCode\":\"C67\",\"descriptionCN\":\"前电子控制空调\",\"descriptionEN\":\"AIR CONDITIONER,FRONT,ELECTRONIC CONTROLS\"},{\"optionCode\":\"C91\",\"descriptionCN\":\"车顶内门控灯(车顶)\",\"descriptionEN\":\"LAMP,INTERIOR,ROOF COURTESY(DOME)\"},{\"optionCode\":\"C95\",\"descriptionCN\":\"车内灯, 车顶, 门控灯 &amp; 双阅读灯\",\"descriptionEN\":\"LAMP INTR, ROOF, COURTESY &amp; DUAL READING\"},{\"optionCode\":\"CF5\",\"descriptionCN\":\"电动滑动天窗玻璃\",\"descriptionEN\":\"ROOF SUN, GLASS, SLIDING, ELEC\"},{\"optionCode\":\"CZ2\",\"descriptionCN\":\"国家 中国\",\"descriptionEN\":\"COUNTRY CHINA\"},{\"optionCode\":\"D31\",\"descriptionCN\":\"车内倾斜后视镜(与D36重复)\",\"descriptionEN\":\"MIRROR I/S R/V TILT (DUP WITH D36)\"},{\"optionCode\":\"D75\",\"descriptionCN\":\"外把手,门,车身颜色\",\"descriptionEN\":\"HANDLE O/S, DR, BODY COLOR\"},{\"optionCode\":\"D91\",\"descriptionCN\":\"外把手,举升门,行李厢,彩色\",\"descriptionEN\":\"HANDLE O/S, L/GATE, R/CMPT, COLOR\"},{\"optionCode\":\"DA1\",\"descriptionCN\":\"后排座椅扶手,储物箱\",\"descriptionEN\":\"ARM REST RR SEAT, STORAGE\"},{\"optionCode\":\"DBU\",\"descriptionCN\":\"前厢控制台,地板,滑动扶手\",\"descriptionEN\":\"CONSOLE FRT COMPT, FLOOR, ARM REST SLIDING\"},{\"optionCode\":\"DLV\",\"descriptionCN\":\"车内遮阳板前化妆镜,驾驶员侧和乘客侧,带镜子和盖\",\"descriptionEN\":\"MIRROR I/S FRT VAN SUNSHADE, DRIVER &amp; PASS, W/MIRROR &amp; COVER\"},{\"optionCode\":\"DP6\",\"descriptionCN\":\"后视镜装置壳体, 喷涂\",\"descriptionEN\":\"MIRROR PROVISIONS HOUSING, PAINTED\"},{\"optionCode\":\"DT4\",\"descriptionCN\":\"烟灰盒和点烟器\",\"descriptionEN\":\"ASH RECEPTACLE AND CIGARETTE LIGHTER\"},{\"optionCode\":\"DWY\",\"descriptionCN\":\"左侧和右侧车外后视镜,遥控,电动,手动折叠,驾驶员侧辅助WFOV,乘客侧CNVX\",\"descriptionEN\":\"MIRROR O/S LH &amp; RH, RC, ELEC, MANFOLD, AUX WFOV/DRVR CNVX/PASS\"},{\"optionCode\":\"E17\",\"descriptionCN\":\"保险杠 2.5 英里每时\",\"descriptionEN\":\"BUMPER 2.5 MPH\"},{\"optionCode\":\"EA1\",\"descriptionCN\":\"前排左侧座椅靠背地图袋\",\"descriptionEN\":\"POCKET FRONT SEAT BACK, LH\"},{\"optionCode\":\"EA2\",\"descriptionCN\":\"前排右侧座椅靠背凹座\",\"descriptionEN\":\"POCKET FRONT SEAT BACK, RH\"},{\"optionCode\":\"EBF\",\"descriptionCN\":\"座椅真皮饰件,子午线\",\"descriptionEN\":\"TRIM SEAT LEATHER, MERIDIAN\"},{\"optionCode\":\"FCT\",\"descriptionCN\":\"车门饰件,织物\",\"descriptionEN\":\"TRIM DOOR MESH FABRIC\"},{\"optionCode\":\"FJB\",\"descriptionCN\":\"变速驱动桥主减速器传动比 3.37\",\"descriptionEN\":\"RATIO TRANSAXLE FINAL DRIVE 3.37\"},{\"optionCode\":\"GCD\",\"descriptionCN\":\"外部主色,亮白色\",\"descriptionEN\":\"PRIMARY COLOR EXTERIOR, BRIGHT WHITE\"},{\"optionCode\":\"GNA\",\"descriptionCN\":\"底盘装备,前滑柱总成\",\"descriptionEN\":\"CHASSIS EQUIP FRONT STRUT ASM\"},{\"optionCode\":\"GNF\",\"descriptionCN\":\"后桥底盘后装备,混合曲轴\",\"descriptionEN\":\"CHASSIS EQUIP REAR REAR AXLE, COMPOUND CRANK\"},{\"optionCode\":\"J67\",\"descriptionCN\":\"前、后盘式电动制动系统,防抱死系统,15\\'\\'\",\"descriptionEN\":\"BRAKE SYSTEM POWER, FRT &amp; RR DISC, ABS, 15\\'\\'\"},{\"optionCode\":\"JBC\",\"descriptionCN\":\"生产厂编码 金杯,中国\",\"descriptionEN\":\"PLANT CODE JIN BEI, CHINA\"},{\"optionCode\":\"K60\",\"descriptionCN\":\"发电机,100安培\",\"descriptionEN\":\"GENERATOR 100 AMP\"},{\"optionCode\":\"KCL\",\"descriptionCN\":\"加热器后通道管道(2档位置)\",\"descriptionEN\":\"HEATER DUCT, RR PASS (2ND POSN)\"},{\"optionCode\":\"KTF\",\"descriptionCN\":\"可折叠主钥匙,其他可折叠钥匙\",\"descriptionEN\":\"KEY PRIMARY FOLDABLE, ADDITIONAL FOLDABLE\"},{\"optionCode\":\"LHD\",\"descriptionCN\":\"左驾车驱动机构\",\"descriptionEN\":\"VEHICLE DRIVE LEFT HAND DRIVE\"},{\"optionCode\":\"MDB\",\"descriptionCN\":\"车身侧上饰条,黑色\",\"descriptionEN\":\"MOLDING B/S UPPER BLACK\"},{\"optionCode\":\"MH9\",\"descriptionCN\":\"6速自动变速器HMD,X24F\",\"descriptionEN\":\"TRANSMISSION AUTO 6 SPD, HMD, X24F\"},{\"optionCode\":\"MM1\",\"descriptionCN\":\"市售自动变速器设备\",\"descriptionEN\":\"MERCHANDISED TRANS AUTO EQUIPMENT\"},{\"optionCode\":\"N37\",\"descriptionCN\":\"伸缩式倾斜转向柱\",\"descriptionEN\":\"STEERING COLUMN TILT, TELESCOPING\"},{\"optionCode\":\"N45\",\"descriptionCN\":\"转向盘 3辐\",\"descriptionEN\":\"STEERING WHEEL 3 SPOKES\"},{\"optionCode\":\"NJ1\",\"descriptionCN\":\"动力转向,不变传动比,电动\",\"descriptionEN\":\"STEERING POWER, NON-VARIABLE RATIO, ELECTRIC\"},{\"optionCode\":\"NT4\",\"descriptionCN\":\"欧洲经济共同体 05 排放系统\",\"descriptionEN\":\"EMISSION SYSTEM EEC 05\"},{\"optionCode\":\"PZO\",\"descriptionCN\":\"车轮16 X 6.5, J, 铝, 设计5\",\"descriptionEN\":\"WHEEL 16 X 6.5, J, ALUMINUM, DESIGN 5\"},{\"optionCode\":\"QVF\",\"descriptionCN\":\"全轮胎 205/60R16-92H BW R/ST TL HW3\",\"descriptionEN\":\"TIRE ALL 205/60R16-92H BW R/ST TL HW3\"},{\"optionCode\":\"RU5\",\"descriptionCN\":\"备胎 16 X 4.0, J, 钢制, 第1设计\",\"descriptionEN\":\"WHEEL SPARE 16 X 4.0, J, STEEL, DESIGN 1\"},{\"optionCode\":\"T39\",\"descriptionCN\":\"辅助转向信号灯\",\"descriptionEN\":\"LAMP TURN SIGNAL, AUX\"},{\"optionCode\":\"T3U\",\"descriptionCN\":\"前雾灯,联合国欧洲经济委员会\",\"descriptionEN\":\"LAMP FRT FOG, ECE\"},{\"optionCode\":\"T4A\",\"descriptionCN\":\"卤素前照灯\",\"descriptionEN\":\"HEADLAMPS HALOGEN\"},{\"optionCode\":\"T74\",\"descriptionCN\":\"自动前大灯控制装置，延迟\",\"descriptionEN\":\"HEADLAMPS CONTROL AUTOMATIC, DELAY\"},{\"optionCode\":\"T79\",\"descriptionCN\":\"后雾灯\",\"descriptionEN\":\"LAMP FOG, RR\"},{\"optionCode\":\"T83\",\"descriptionCN\":\"前照灯控制,自动点亮-熄灭\",\"descriptionEN\":\"HEADLAMPS CONTROL AUTOMATIC ON-OFF\"},{\"optionCode\":\"TM7\",\"descriptionCN\":\"蓄电池 60 安&middot;时\",\"descriptionEN\":\"BATTERY 60 AH\"},{\"optionCode\":\"TPV\",\"descriptionCN\":\"散热器格栅,黑色,带镀铬条\",\"descriptionEN\":\"GRILLE RADIATOR, BLACK, W/CHROME BAR\"},{\"optionCode\":\"TR8\",\"descriptionCN\":\"抛锚车辆警告反射器\",\"descriptionEN\":\"REFLECTOR WARNING, DISABLED VEHICLE\"},{\"optionCode\":\"TS6\",\"descriptionCN\":\"高位制动灯\",\"descriptionEN\":\"LAMP STOP, HIGH LEVEL\"},{\"optionCode\":\"TTX\",\"descriptionCN\":\"收音机设备辅助连接器(管路内)\",\"descriptionEN\":\"RADIO EQUIPMENT AUX CONNECTOR (LINE IN)\"},{\"optionCode\":\"U04\",\"descriptionCN\":\"单音喇叭\",\"descriptionEN\":\"HORN SINGLE NOTE\"},{\"optionCode\":\"U25\",\"descriptionCN\":\"行李厢内门控灯\",\"descriptionEN\":\"LAMP INTR, RR COMPT, COURTESY\"},{\"optionCode\":\"U68\",\"descriptionCN\":\"驾驶员信息显示中心\",\"descriptionEN\":\"DISPLAY DRIVER INFO CENTER\"},{\"optionCode\":\"U77\",\"descriptionCN\":\"收音机后窗天线\",\"descriptionEN\":\"ANTENNA RR WINDOW, RADIO\"},{\"optionCode\":\"UAG\",\"descriptionCN\":\"图形信息显示器(GID),可变1\",\"descriptionEN\":\"DISPLAY GRAPHIC INFO DISPLAY (GID), VAR 1\"},{\"optionCode\":\"UD7\",\"descriptionCN\":\"后驻车辅助传感器指示器\",\"descriptionEN\":\"SENSOR INDICATOR REAR PARKING ASSIST\"},{\"optionCode\":\"UDB\",\"descriptionCN\":\"仪表板驾驶员信息显示器增强(分割的)\",\"descriptionEN\":\"DISPLAY INSTRUMENT DRIVER INFO ENHANCED (SEGMENTED)\"},{\"optionCode\":\"UE1\",\"descriptionCN\":\"车辆通讯系统,G.P.S. 1\",\"descriptionEN\":\"COMMUNICATION SYSTEM VEHICLE, G.P.S. 1\"},{\"optionCode\":\"UH0\",\"descriptionCN\":\"座椅安全带警告指示器,左侧\",\"descriptionEN\":\"INDICATOR SEAT BELT WARNING , LH\"},{\"optionCode\":\"UTJ\",\"descriptionCN\":\"电动防盗系统,未授权进入\",\"descriptionEN\":\"THEFT DETERENT ELECTRICAL, UNAUTHORIZED ENTRY\"},{\"optionCode\":\"UW6\",\"descriptionCN\":\"扬声器系统 6, 顾客定制\",\"descriptionEN\":\"SPEAKER SYSTEM 6, CUSTOM\"},{\"optionCode\":\"UYH\",\"descriptionCN\":\"AM/FM立体声收音机, 光驱, CAF, USB, 后排座椅音响, 音乐导航器 (中国版本)\",\"descriptionEN\":\"RADIO AM/FM STEREO, CD-ROM, CAF, USB, RSA, MUSIC NAVIGAT OR (CHINA VERSION)\"},{\"optionCode\":\"V86\",\"descriptionCN\":\"车辆说明,中国\",\"descriptionEN\":\"VEHICLE STATEMENT CHINA\"},{\"optionCode\":\"VHY\",\"descriptionCN\":\"车身钣金件保护装置,防高腐蚀性\",\"descriptionEN\":\"PROTECTOR BODY SHEET METAL, HIGH CORROSION PREVENTIVE\"},{\"optionCode\":\"VK8\",\"descriptionCN\":\"眼镜架\",\"descriptionEN\":\"HOLDER EYEGLASSES\"},{\"optionCode\":\"VRG\",\"descriptionCN\":\"座舱预装总成\",\"descriptionEN\":\"VALUE ADDED ASM COCKPIT\"},{\"optionCode\":\"VRH\",\"descriptionCN\":\"转向柱预装总成\",\"descriptionEN\":\"VALUE ADDED ASM STEERING COLUMN\"},{\"optionCode\":\"VRK\",\"descriptionCN\":\"车顶饰件预装总成\",\"descriptionEN\":\"VALUE ADDED ASM ROOF TRIM\"},{\"optionCode\":\"VRL\",\"descriptionCN\":\"前水平悬架预装总成\",\"descriptionEN\":\"VALUE ADDED ASM FRONT HORIZONTAL SUSPENSION\"},{\"optionCode\":\"VRM\",\"descriptionCN\":\"前垂直悬架预装总成\",\"descriptionEN\":\"VALUE ADDED ASM FRONT VERTICAL SUSPENSION\"},{\"optionCode\":\"VRN\",\"descriptionCN\":\"后悬架预装成\",\"descriptionEN\":\"VALUE ADDED ASM REAR SUSPENSION\"},{\"optionCode\":\"VRR\",\"descriptionCN\":\"轮胎和车轮预装总成\",\"descriptionEN\":\"VALUE ADDED ASM TIRES &amp; WHEELS\"},{\"optionCode\":\"W7E\",\"descriptionCN\":\"发动机生产厂,烟台,中国上海通用\",\"descriptionEN\":\"ENGINE PLANT YANTAI, SGM CHINA\"},{\"optionCode\":\"WGA\",\"descriptionCN\":\"收音机设备接受单元集合,收音机\",\"descriptionEN\":\"COLLECTION RDO EQUIP RECEIVING UNIT, RADIO\"},{\"optionCode\":\"XL7\",\"descriptionCN\":\"额定频率,315兆赫兹,远距离\",\"descriptionEN\":\"FREQUENCIES RATING 315 MHZ, LONG DISTANCE\"},{\"optionCode\":\"Y7C\",\"descriptionCN\":\"转换执行提升到0级\",\"descriptionEN\":\"CONVERSION ACT PROMOTED TO ZERO LEVEL\"},{\"optionCode\":\"Z1F\",\"descriptionCN\":\"车速表标识千米\",\"descriptionEN\":\"IDENTIFICATION SPEEDOMETER KILOMETER\"},{\"optionCode\":\"ZAD\",\"descriptionCN\":\"备胎 T115/70R16 SL 92M BW SPR\",\"descriptionEN\":\"TIRE SPARE T115/70R16 SL 92M BW SPR\"}]}', {'SGM_OAUTH_CODE': 'a4a6048263586c79f0f2fe29a3e7c6a2', 'dealer_mid:prod:': '6739755c-cf2e-41af-b8e6-6bb49d332738'}, 'SGM_OAUTH_CODE=a4a6048263586c79f0f2fe29a3e7c6a2; Max-Age=1800; Domain=.saic-gm.com; Path=/; Expires=Wed, 04 Sep 2019 14:21:04 GMT; HttpOnly, SGM_OAUTH_CODE=a4a6048263586c79f0f2fe29a3e7c6a2; Max-Age=1800; Domain=.saic-gm.net; Path=/; Expires=Wed, 04 Sep 2019 14:21:04 GMT; HttpOnly, SGM_OAUTH_CODE=a4a6048263586c79f0f2fe29a3e7c6a2; Max-Age=1800; Domain=.sgmlink.com; Path=/; Expires=Wed, 04 Sep 2019 14:21:04 GMT; HttpOnly, dealer_mid:prod:=6739755c-cf2e-41af-b8e6-6bb49d332738; Max-Age=1800; Domain=.saic-gm.com; Path=/; Expires=Wed, 04 Sep 2019 14:21:04 GMT; HttpOnly, dealer_mid:prod:=6739755c-cf2e-41af-b8e6-6bb49d332738; Max-Age=1800; Domain=.saic-gm.net; Path=/; Expires=Wed, 04 Sep 2019 14:21:04 GMT; HttpOnly, dealer_mid:prod:=6739755c-cf2e-41af-b8e6-6bb49d332738; Max-Age=1800; Domain=.sgmlink.com; Path=/; Expires=Wed, 04 Sep 2019 14:21:04 GMT; HttpOnly')\n"
     ]
    }
   ],
   "source": [
    "# 通过vin刷EPC接口\n",
    "\n",
    "\n",
    "def get_EPC_vin_info(vin,cookie_value):\n",
    "    # 设置request headers\n",
    "    headers = {\n",
    "    'Host': 'dpj.saic-gm.com',\n",
    "    'Connection': 'keep-alive',\n",
    "    'x-resource-code': 'decodeVin',\n",
    "    'x-app-version': '4.0.0.1',\n",
    "    'oe-version-no': 'V4.0.0.1',\n",
    "    'x-app-code': 'EPCOLOE',\n",
    "    #'x-track-code': 'fbd60425-37c5-441f-b9ab-efa2aebdd343',\n",
    "    'User-Agent': 'Mozilla/5.0 (Windows NT 10.0; Win64; x64) AppleWebKit/537.36 (KHTML, like Gecko) Chrome/74.0.3729.6 Safari/537.36',\n",
    "    'Accept': 'application/json, text/plain, */*',\n",
    "    'x-Requested-With': 'XMLHttpRequest',\n",
    "    'Accept-Encoding': 'gzip, deflate, br',\n",
    "    'Accept-Language': 'zh-CN,zh;q=0.9',\n",
    "    'Cookie': 'SGM_OAUTH_CODE=fc65ccfec9408c9b0fe7034b994f95a6; dealer_mid:prod:=24461b7d-0bc1-4b39-bc9c-215f3acd44c7'\n",
    "}\n",
    "    \n",
    "    headers['Cookie'] = cookie_value\n",
    "\n",
    "    # 接口URL\n",
    "    url = 'https://dpj.saic-gm.com/MidNodeJS/epcoloe4dealer/rest/vehicles/%s' % vin\n",
    "\n",
    "    response = requests.get(url,headers=headers)\n",
    "\n",
    "    content = response.text\n",
    "\n",
    "    cookie = response.cookies\n",
    "    cookie_dict = requests.utils.dict_from_cookiejar(cookie)\n",
    "\n",
    "    set_cookie = response.headers['Set-Cookie']\n",
    "\n",
    "    return content, cookie_dict, set_cookie\n",
    "\n",
    "vin = 'LSGPC54R6CF163558'\n",
    "\n",
    "content = get_EPC_vin_info(vin,cookie,value)\n",
    "\n",
    "print(content)\n",
    "\n",
    "\n"
   ]
  },
  {
   "cell_type": "code",
   "execution_count": 21,
   "metadata": {},
   "outputs": [
    {
     "name": "stdout",
     "output_type": "stream",
     "text": [
      "{'Host': 'dpj.saic-gm.com', 'Connection': 'keep-alive', 'x-resource-code': 'decodeVin', 'x-app-version': '4.0.0.1', 'oe-version-no': 'V4.0.0.1', 'x-app-code': 'EPCOLOE', 'User-Agent': 'Mozilla/5.0 (Windows NT 10.0; Win64; x64) AppleWebKit/537.36 (KHTML, like Gecko) Chrome/74.0.3729.6 Safari/537.36', 'Accept': 'application/json, text/plain, */*', 'x-Requested-With': 'XMLHttpRequest', 'Accept-Encoding': 'gzip, deflate, br', 'Accept-Language': 'zh-CN,zh;q=0.9', 'Cookie': 'SGM_OAUTH_CODE=a4a6048263586c79f0f2fe29a3e7c6a2; dealer_mid:prod:=6739755c-cf2e-41af-b8e6-6bb49d332738'}\n"
     ]
    }
   ],
   "source": []
  }
 ],
 "metadata": {
  "kernelspec": {
   "display_name": "Python 3",
   "language": "python",
   "name": "python3"
  },
  "language_info": {
   "codemirror_mode": {
    "name": "ipython",
    "version": 3
   },
   "file_extension": ".py",
   "mimetype": "text/x-python",
   "name": "python",
   "nbconvert_exporter": "python",
   "pygments_lexer": "ipython3",
   "version": "3.6.5"
  }
 },
 "nbformat": 4,
 "nbformat_minor": 2
}
