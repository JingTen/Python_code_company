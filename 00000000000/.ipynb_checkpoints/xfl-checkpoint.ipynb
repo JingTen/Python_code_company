{
 "cells": [
  {
   "cell_type": "code",
   "execution_count": 46,
   "metadata": {},
   "outputs": [
    {
     "name": "stdout",
     "output_type": "stream",
     "text": [
      "<RequestsCookieJar[<Cookie SGM_OAUTH_CODE=0a5603a9514893e2d52049cca9dc3f47 for .saic-gm.com/>, <Cookie dealer_mid:prod:=162eaf5f-6f65-4d84-be70-b6fe07b88b37 for .saic-gm.com/>]>\n",
      "SGM_OAUTH_CODE=0a5603a9514893e2d52049cca9dc3f47; Max-Age=1800; Domain=.saic-gm.com; Path=/; Expires=Wed, 28 Aug 2019 12:52:49 GMT; HttpOnly, SGM_OAUTH_CODE=0a5603a9514893e2d52049cca9dc3f47; Max-Age=1800; Domain=.saic-gm.net; Path=/; Expires=Wed, 28 Aug 2019 12:52:49 GMT; HttpOnly, SGM_OAUTH_CODE=0a5603a9514893e2d52049cca9dc3f47; Max-Age=1800; Domain=.sgmlink.com; Path=/; Expires=Wed, 28 Aug 2019 12:52:49 GMT; HttpOnly, dealer_mid:prod:=162eaf5f-6f65-4d84-be70-b6fe07b88b37; Max-Age=1800; Domain=.saic-gm.com; Path=/; Expires=Wed, 28 Aug 2019 12:52:49 GMT; HttpOnly, dealer_mid:prod:=162eaf5f-6f65-4d84-be70-b6fe07b88b37; Max-Age=1800; Domain=.saic-gm.net; Path=/; Expires=Wed, 28 Aug 2019 12:52:49 GMT; HttpOnly, dealer_mid:prod:=162eaf5f-6f65-4d84-be70-b6fe07b88b37; Max-Age=1800; Domain=.sgmlink.com; Path=/; Expires=Wed, 28 Aug 2019 12:52:49 GMT; HttpOnly\n",
      "<class 'requests.cookies.RequestsCookieJar'> <class 'str'>\n",
      "2 862\n",
      "{\"country\":\"中华人民共和国\",\"region\":\"上海\",\"manufacturer\":\"  烟台生产基地（东岳整车南厂）制造\",\"model\":\"T255\",\"bodyType\":\"三厢四门乘用车\",\"constraintType\":\"手动安全带及驾驶员、前排乘客正面及侧面安全气囊\",\"engineType\":\"Engine gas,1.4L,L4(直列四缸)，MFI(多点燃油电控喷射),DOHC(双顶置式凸轮轴)\",\"checkPos\":\"7\",\"modelYear\":\"2010\",\"assemblyFactory\":\"上汽通用汽车有限公司\",\"sequence\":\"038799\",\"vin\":\"LSGTB54M7AY038799\",\"series\":\"TB\",\"body\":\"69\",\"productMonth\":\"2010-01-11\",\"rpos\":[{\"optionCode\":\"12U\",\"descriptionCN\":\"外部主色,ODYSSEY\",\"descriptionEN\":\"PRIMARY COLOR EXTERIOR, ODYSSEY\"},{\"optionCode\":\"28I\",\"descriptionCN\":\"内饰,浅灰色/深灰色(05)\",\"descriptionEN\":\"INTERIOR TRIM LT GRAY/DK GRAY (05)\"},{\"optionCode\":\"AAM\",\"descriptionCN\":\"驾驶员保护膝垫\",\"descriptionEN\":\"RESTRAINT KNEE, BOLSTER, DRIVER\"},{\"optionCode\":\"AE3\",\"descriptionCN\":\"前和后电动门窗\",\"descriptionEN\":\"WINDOW POWER OPERATED, FRT &amp; RR DR\"},{\"optionCode\":\"AG4\",\"descriptionCN\":\"前排驾驶员座椅2向垂直手动调节器\",\"descriptionEN\":\"ADJUSTER FRT ST MANUAL, 2 WAY, VERT, DRIVER\"},{\"optionCode\":\"AJ7\",\"descriptionCN\":\"座椅安全气囊系统,驾驶员和乘客,前部和侧边\",\"descriptionEN\":\"RESTRAINT SYSTEM SEAT, INFLATABLE, DRIVER &amp; PASS, FRT &amp; SIDE\"},{\"optionCode\":\"AMA\",\"descriptionCN\":\"后排可折叠座椅组合式靠背,头枕\",\"descriptionEN\":\"SEAT RR SPLIT BACK, FOLDING, HEADREST\"},{\"optionCode\":\"AR7\",\"descriptionCN\":\"座椅前托架,标准\",\"descriptionEN\":\"SEAT FRT BKT, STANDARD\"},{\"optionCode\":\"C60\",\"descriptionCN\":\"空调前暖风、通风与空调系统,手动控制\",\"descriptionEN\":\"HVAC SYSTEM AIR CONDITIONER FRT, MAN CONTROLS\"},{\"optionCode\":\"D72\",\"descriptionCN\":\"车门黑色外把手\",\"descriptionEN\":\"HANDLE O/S, DR, BLACK\"},{\"optionCode\":\"D91\",\"descriptionCN\":\"外把手,举升门,行李厢,彩色\",\"descriptionEN\":\"HANDLE O/S, L/GATE, R/CMPT, COLOR\"},{\"optionCode\":\"DC8\",\"descriptionCN\":\"外后视镜  左侧和右侧,远程控制,手动可折叠,黑色\",\"descriptionEN\":\"MIRROR O/S LH &amp; RH, REMOTE CONTROL, MANUAL FOLDING, BLACK\"},{\"optionCode\":\"FE2\",\"descriptionCN\":\"行驶平顺性,操纵性能控制悬架系统\",\"descriptionEN\":\"SUSPENSION SYSTEM RIDE,HANDLING\"},{\"optionCode\":\"JJC\",\"descriptionCN\":\"仪表板分总成安装(仅用组件最优化方法)\",\"descriptionEN\":\"I/P SUBASSEMBLY INSTALLED (MODULAR OPTIMIZATION METHOD ONLY)\"},{\"optionCode\":\"JM4\",\"descriptionCN\":\"制动器系统电源,前盘,后鼓,铸铁,防抱死,前和后轮\",\"descriptionEN\":\"BRAKE SYSTEM PWR, FRT DISC, RR DRUM, CAST IRON, ANTILOCK, FRT &amp; RR WHL\"},{\"optionCode\":\"L95\",\"descriptionCN\":\"汽油发动机,4缸,1.4升,多点燃油喷射,双顶置凸轮轴\",\"descriptionEN\":\"ENGINE GAS, 4 CYL, 1.4L, MFI, DOHC\"},{\"optionCode\":\"MLM\",\"descriptionCN\":\"变速器,手动5档,D16 右侧开关\",\"descriptionEN\":\"TRANSMISSION MAN 5 SPD, D16 SW/R\"},{\"optionCode\":\"N40\",\"descriptionCN\":\"不变传动比动力转向\",\"descriptionEN\":\"STEERING POWER, NON-VARIABLE RATIO\"},{\"optionCode\":\"N46\",\"descriptionCN\":\"4辐转向盘\",\"descriptionEN\":\"STEERING WHEEL 4 SPOKES\"},{\"optionCode\":\"NT4\",\"descriptionCN\":\"欧洲经济共同体 05 排放系统\",\"descriptionEN\":\"EMISSION SYSTEM EEC 05\"},{\"optionCode\":\"P08\",\"descriptionCN\":\"超级豪华车轮盖\",\"descriptionEN\":\"COVER, WHEEL SUPER DELUXE\"},{\"optionCode\":\"PY8\",\"descriptionCN\":\"车轮14 X 5.5,钢制\",\"descriptionEN\":\"WHEEL 14 X 5.5, STEEL.\"},{\"optionCode\":\"Q98\",\"descriptionCN\":\"轮胎全 P185/60R14 BW NY/ST TL ALS\",\"descriptionEN\":\"TIRE ALL P185/60R14 BW NY/ST TL ALS\"},{\"optionCode\":\"QQ5\",\"descriptionCN\":\"备用轮胎和车轮,全尺寸,钢\",\"descriptionEN\":\"TIRE &amp; WHEEL SPARE, FULL SIZE, STEEL\"},{\"optionCode\":\"T84\",\"descriptionCN\":\"前照灯  道路右手规则,后标识\",\"descriptionEN\":\"HEADLAMPS RH RULE OF THE ROAD, E MARK\"},{\"optionCode\":\"TH0\",\"descriptionCN\":\"托运零件合同标识\",\"descriptionEN\":\"IDENTIFICATION CONSIGNMENT PART, CONTRACT\"},{\"optionCode\":\"U2D\",\"descriptionCN\":\"仪表组件,冷却温度,里程表,转速表,燃油车速表,时钟\",\"descriptionEN\":\"CLUSTER INST, COOL TEMP, TRIP ODOM, TACH, FUEL SPEEDO, CLOCK\"},{\"optionCode\":\"U95\",\"descriptionCN\":\"2声道扬声器系统,基本\",\"descriptionEN\":\"SPEAKER SYSTEM 2, BASE\"},{\"optionCode\":\"UX3\",\"descriptionCN\":\"调幅/调频立体声收音机,搜索曲目、电子调谐收音机\",\"descriptionEN\":\"RADIO AM/FM STEREO, SEEK, ETR\"},{\"optionCode\":\"V4Z\",\"descriptionCN\":\"4星级设备,NCAP 组件\",\"descriptionEN\":\"EQUIPMENT 4-STAR, NCAP PACKAGE\"},{\"optionCode\":\"VED\",\"descriptionCN\":\"内饰,金属银白色\",\"descriptionEN\":\"ORNAMENTATION INTR, METALLIC SILVER\"},{\"optionCode\":\"W6C\",\"descriptionCN\":\"标准型织物饰件,可变1\",\"descriptionEN\":\"TRIM CLOTH, STANDARD, VAR 1\"},{\"optionCode\":\"Y7C\",\"descriptionCN\":\"转换执行提升到0级\",\"descriptionEN\":\"CONVERSION ACT PROMOTED TO ZERO LEVEL\"},{\"optionCode\":\"Y9G\",\"descriptionCN\":\"包装 &quot;基本级&quot; 版本\",\"descriptionEN\":\"PACKAGE &quot;BASE LEVEL&quot; VERSION\"}]}\n"
     ]
    }
   ],
   "source": [
    "import requests\n",
    "import time\n",
    "\n",
    "\n",
    "headers = {\n",
    "    'Host': 'dpj.saic-gm.com',\n",
    "    'Connection': 'keep-alive',\n",
    "    'x-resource-code': 'decodeVin',\n",
    "    'x-app-version': '4.0.0.1',\n",
    "    'oe-version-no': 'V4.0.0.1',\n",
    "    'x-app-code': 'EPCOLOE',\n",
    "    #'x-track-code': 'fbd60425-37c5-441f-b9ab-efa2aebdd343',\n",
    "    'User-Agent': 'Mozilla/5.0 (Windows NT 10.0; Win64; x64) AppleWebKit/537.36 (KHTML, like Gecko) Chrome/74.0.3729.6 Safari/537.36',\n",
    "    'Accept': 'application/json, text/plain, */*',\n",
    "    'x-Requested-With': 'XMLHttpRequest',\n",
    "    'Accept-Encoding': 'gzip, deflate, br',\n",
    "    'Accept-Language': 'zh-CN,zh;q=0.9',\n",
    "    'Cookie': 'SGM_OAUTH_CODE=0a5603a9514893e2d52049cca9dc3f47; dealer_mid:prod:=162eaf5f-6f65-4d84-be70-b6fe07b88b37'\n",
    "}\n",
    "\n",
    "\n",
    "\n",
    "url = 'https://dpj.saic-gm.com/MidNodeJS/epcoloe4dealer/rest/vehicles/LSGTB54M7AY038799'\n",
    "\n",
    "\n",
    "res = requests.get(url,headers=headers)\n",
    "\n",
    "print(res.cookies)\n",
    "\n",
    "set_cookie = res.headers['Set-Cookie']\n",
    "print(set_cookie)\n",
    "\n",
    "print(type(res.cookies),type(set_cookie))\n",
    "print(len(res.cookies),len(set_cookie))\n",
    "\n",
    "res = res.text\n",
    "\n",
    "\n",
    "\n",
    "print(res)\n",
    "\n",
    "\n",
    "\n",
    "\n",
    "\n",
    "\n"
   ]
  },
  {
   "cell_type": "code",
   "execution_count": 36,
   "metadata": {},
   "outputs": [
    {
     "name": "stdout",
     "output_type": "stream",
     "text": [
      "<class 'requests.cookies.RequestsCookieJar'>\n",
      "<class 'dict'>\n",
      "{'BDORZ': '27315'}\n",
      "<RequestsCookieJar[<Cookie BDORZ=27315 for />]>\n"
     ]
    }
   ],
   "source": [
    "import requests\n",
    "\n",
    "url = 'https://www.baidu.com'\n",
    "response = requests.get(url)\n",
    "\n",
    "ckjar = response.cookies\n",
    "print(type(ckjar))\n",
    "ck_dict = requests.utils.dict_from_cookiejar(ckjar)\n",
    "print(type(ck_dict))\n",
    "print(ck_dict)\n",
    "\n",
    "ck_jar = requests.utils.cookiejar_from_dict(ck_dict)\n",
    "print(ck_jar)\n",
    "\n"
   ]
  },
  {
   "cell_type": "code",
   "execution_count": 44,
   "metadata": {},
   "outputs": [],
   "source": [
    "    ('LSGJL52M8CY211904','{\"country\":\"中华人民共和国\",\"region\":\"上海\",\"manufacturer\":\"  烟台生产基地（东岳整车南厂）制造\",\"model\":\"T300\",\"bodyType\":\"三厢四门乘用车\",\"constraintType\":\"手动安全带及驾驶员、前排乘客正面安全气囊\",\"engineType\":\"Engine gas,1.4L,L4(直列四缸)，MFI(多点燃油电控喷射),DOHC(双顶置式凸轮轴)\",\"checkPos\":\"8\",\"modelYear\":\"2012\",\"assemblyFactory\":\"上汽通用汽车有限公司\",\"sequence\":\"211904\",\"vin\":\"LSGJL52M8CY211904\",\"series\":\"JL\",\"body\":\"69\",\"productMonth\":\"2012-02-21\",\"rpos\":[{\"optionCode\":\"01S\",\"descriptionCN\":\"座椅饰件颜色,中钛银色\",\"descriptionEN\":\"TRIM COLOR SEAT MED TITANIUM\"},{\"optionCode\":\"1AF\",\"descriptionCN\":\"门板饰件颜色 深钛银色\",\"descriptionEN\":\"TRIM COLOR DR PANEL DK TITANIUM\"},{\"optionCode\":\"4AA\",\"descriptionCN\":\"墨黑色内饰\",\"descriptionEN\":\"INTERIOR TRIM JET BLACK\"},{\"optionCode\":\"6X1\",\"descriptionCN\":\"左前侧部件非计算机选择悬架\",\"descriptionEN\":\"COMPONENT FRT LH NON-COMPUTER SEL SUSP\"},{\"optionCode\":\"7X1\",\"descriptionCN\":\"右前侧部件非计算机选择悬架\",\"descriptionEN\":\"COMPONENT FRT RH NON-COMPUTER SEL SUSP\"},{\"optionCode\":\"8X2\",\"descriptionCN\":\"左后侧部件非计算机选择悬架\",\"descriptionEN\":\"COMPONENT RR LH NON-COMPUTER SEL SUSP\"},{\"optionCode\":\"9X2\",\"descriptionCN\":\"右后侧部件非计算机选择悬架\",\"descriptionEN\":\"COMPONENT RR RH NON-COMPUTER SEL SUSP\"},{\"optionCode\":\"A33\",\"descriptionCN\":\"后电动门窗\",\"descriptionEN\":\"WINDOW POWER OPERATED, RR DRS\"},{\"optionCode\":\"A55\",\"descriptionCN\":\"电动车窗, 驾驶员\",\"descriptionEN\":\"WINDOW POWER OPERATED, DRIVER\"},{\"optionCode\":\"A66\",\"descriptionCN\":\"电动车窗, 乘客\",\"descriptionEN\":\"WINDOW POWER OPERATED, PASSENGER\"},{\"optionCode\":\"A70\",\"descriptionCN\":\"前排安全带张紧器\",\"descriptionEN\":\"RESTRAINT SEAT BELT TENSIONER, FRT\"},{\"optionCode\":\"A90\",\"descriptionCN\":\"行李厢盖锁紧控制器,遥控电动开启\",\"descriptionEN\":\"LOCK CONTROL RR CMPT LID, REM CONT ELEC RELEASE\"},{\"optionCode\":\"ADL\",\"descriptionCN\":\"座椅安全气囊系统,驾驶员侧和乘客侧,单阶\",\"descriptionEN\":\"RESTRAINT SYSTEM SEAT, INFLATABLE, DRIVER &amp; PASS, SINGLE STAGE\"},{\"optionCode\":\"AFF\",\"descriptionCN\":\"内饰配置#6\",\"descriptionEN\":\"INTERIOR TRIM CONFIG #6\"},{\"optionCode\":\"AG5\",\"descriptionCN\":\"乘客座椅2向手动调节器\",\"descriptionEN\":\"ADJUSTER PASS ST MANUAL, 2 WAY\"},{\"optionCode\":\"AH9\",\"descriptionCN\":\"前排座椅调节器-手动,2向,驾驶员\",\"descriptionEN\":\"ADJUSTER FRT ST - MANUAL, 2 WAY, DRIVER\"},{\"optionCode\":\"AHU\",\"descriptionCN\":\"皮带保护装置, 高度调节器, 前\",\"descriptionEN\":\"RESTRAINT PROVISIONS BELTS, ADJUSTER, HEIGHT, FRT\"},{\"optionCode\":\"AJC\",\"descriptionCN\":\"前排座椅头枕上/下调节器\",\"descriptionEN\":\"RESTRAINT HEAD, FRT SEAT, UP/DOWN ADJUSTMENT\"},{\"optionCode\":\"AKN\",\"descriptionCN\":\"有色型车窗\",\"descriptionEN\":\"WINDOW TYPE TINTED\"},{\"optionCode\":\"AMA\",\"descriptionCN\":\"后排可折叠座椅组合式靠背,头枕\",\"descriptionEN\":\"SEAT RR SPLIT BACK, FOLDING, HEADREST\"},{\"optionCode\":\"AR7\",\"descriptionCN\":\"座椅前托架,标准\",\"descriptionEN\":\"SEAT FRT BKT, STANDARD\"},{\"optionCode\":\"AU3\",\"descriptionCN\":\"侧门电动锁控制\",\"descriptionEN\":\"LOCK CONTROL SIDE DR, ELEC\"},{\"optionCode\":\"AWB\",\"descriptionCN\":\"后排座椅安全系统,左侧&amp;右侧/紧急锁止安全带&amp;中间/2点式\",\"descriptionEN\":\"RESTRAINT SYSTEM RR SEAT, LH &amp; RH/ELR &amp; CTR/2 POINT\"},{\"optionCode\":\"AXJ\",\"descriptionCN\":\"车辆类型 乘用车\",\"descriptionEN\":\"VEHICLE TYPE PASSENGER CAR\"},{\"optionCode\":\"B32\",\"descriptionCN\":\"辅助前地板垫\",\"descriptionEN\":\"COVERING FRT FLOOR MATS, AUX\"},{\"optionCode\":\"BAH\",\"descriptionCN\":\"设备安全系统,固定,步骤2\",\"descriptionEN\":\"EQUIPMENT SECURITY SYSTEM, IMMOBILIZATION, STEP TWO\"},{\"optionCode\":\"BGY\",\"descriptionCN\":\"断点标识 2003 1/4 车型年\",\"descriptionEN\":\"IDENTIFICATION BREAKING POINT 2003 1/4 M.Y.\"},{\"optionCode\":\"BPF\",\"descriptionCN\":\"前保险杠装置, 下扰流器边缘\",\"descriptionEN\":\"BUMPER PROVISIONS FRONT, LOWER SPOILER EDGE\"},{\"optionCode\":\"C49\",\"descriptionCN\":\"后窗电动除雾器\",\"descriptionEN\":\"DEFOGGER RR WINDOW, ELECTRIC\"},{\"optionCode\":\"C60\",\"descriptionCN\":\"空调前暖风、通风与空调系统,手动控制\",\"descriptionEN\":\"HVAC SYSTEM AIR CONDITIONER FRT, MAN CONTROLS\"},{\"optionCode\":\"C91\",\"descriptionCN\":\"车顶内门控灯(车顶)\",\"descriptionEN\":\"LAMP,INTERIOR,ROOF COURTESY(DOME)\"},{\"optionCode\":\"CD4\",\"descriptionCN\":\"脉动可变延时风窗玻璃刮水器系统\",\"descriptionEN\":\"WIPER SYSTEM WINDSHIELD, PULSE, VARIABLE DELAY\"},{\"optionCode\":\"CZ2\",\"descriptionCN\":\"国家 中国\",\"descriptionEN\":\"COUNTRY CHINA\"},{\"optionCode\":\"D31\",\"descriptionCN\":\"车内倾斜后视镜(与D36重复)\",\"descriptionEN\":\"MIRROR I/S R/V TILT (DUP WITH D36)\"},{\"optionCode\":\"D6J\",\"descriptionCN\":\"车内前遮阳板化妆镜, 驾驶员,不带镜, 乘客,带镜\",\"descriptionEN\":\"MIRROR I/S FRT VAN SUNSHADE, DRIVER, W/O MIRROR, PASS, W/MIRROR\"},{\"optionCode\":\"D72\",\"descriptionCN\":\"车门黑色外把手\",\"descriptionEN\":\"HANDLE O/S, DR, BLACK\"},{\"optionCode\":\"D91\",\"descriptionCN\":\"外把手,举升门,行李厢,彩色\",\"descriptionEN\":\"HANDLE O/S, L/GATE, R/CMPT, COLOR\"},{\"optionCode\":\"D9O\",\"descriptionCN\":\"正面安全气囊传感器(EFS)-单个\",\"descriptionEN\":\"SENSOR FRONT AIRBAG (EFS) - SINGLE\"},{\"optionCode\":\"DC8\",\"descriptionCN\":\"外后视镜  左侧和右侧,远程控制,手动可折叠,黑色\",\"descriptionEN\":\"MIRROR O/S LH &amp; RH, REMOTE CONTROL, MANUAL FOLDING, BLACK\"},{\"optionCode\":\"DUJ\",\"descriptionCN\":\"烟灰盒 吸烟者组件\",\"descriptionEN\":\"ASHTRAY SMOKER'S PACKAGE\"},{\"optionCode\":\"E22\",\"descriptionCN\":\"后拉手\",\"descriptionEN\":\"HANDLE ASSIST, RR\"},{\"optionCode\":\"E27\",\"descriptionCN\":\"乘客辅助把手\",\"descriptionEN\":\"HANDLE ASSIST, PASS\"},{\"optionCode\":\"EBM\",\"descriptionCN\":\"座椅织物饰件, BREVA\",\"descriptionEN\":\"TRIM SEAT CLOTH, BREVA\"},{\"optionCode\":\"FE1\",\"descriptionCN\":\"悬架系统软行车\",\"descriptionEN\":\"SUSPENSION SYSTEM SOFT RIDE\"},{\"optionCode\":\"FHF\",\"descriptionCN\":\"硬质车门饰件 修整油漆\",\"descriptionEN\":\"TRIM DOOR HARD TOUCH PAINT\"},{\"optionCode\":\"FHN\",\"descriptionCN\":\"车辆燃料 汽油 E5\",\"descriptionEN\":\"VEHICLE FUEL GASOLINE E5\"},{\"optionCode\":\"FV7\",\"descriptionCN\":\"变速驱动桥主减速器减速比4.29\",\"descriptionEN\":\"RATIO TRANSAXLE FINAL DRIVE 4.29\"},{\"optionCode\":\"GCD\",\"descriptionCN\":\"外部主色,亮白色\",\"descriptionEN\":\"PRIMARY COLOR EXTERIOR, BRIGHT WHITE\"},{\"optionCode\":\"J97\",\"descriptionCN\":\"助力器式制动系统, 前盘式, 后鼓式, 防抱死制动系统, 14&quot;\",\"descriptionEN\":\"BRAKE SYSTEM POWER, FRT DISC, RR DRUM, ABS, 14&quot;\"},{\"optionCode\":\"JBD\",\"descriptionCN\":\"单级助力制动器\",\"descriptionEN\":\"BOOSTER BRAKE, SINGLE RATE\"},{\"optionCode\":\"K12\",\"descriptionCN\":\"受污染的空气滤清器\",\"descriptionEN\":\"FILTER AIR, POLLUTANT\"},{\"optionCode\":\"K60\",\"descriptionCN\":\"发电机,100安培\",\"descriptionEN\":\"GENERATOR 100 AMP\"},{\"optionCode\":\"KE3\",\"descriptionCN\":\"变速器控制杆手柄, 镀铬\",\"descriptionEN\":\"KNOB TRANS CONT LEVER, CHROME\"},{\"optionCode\":\"KTD\",\"descriptionCN\":\"刚性主钥匙, 附加刚性\",\"descriptionEN\":\"KEY PRIMARY RIGID, ADDITIONAL RIGID\"},{\"optionCode\":\"KTJ\",\"descriptionCN\":\"侧门锁止控制 锁止/解锁, 行李厢开启\",\"descriptionEN\":\"LOCK CONTROL SIDE DOOR LOCK/UNLOCK, TRUNK RELEASE\"},{\"optionCode\":\"LCU\",\"descriptionCN\":\"汽油发动机,4缸,1.4升,多点燃油喷射,双顶置凸轮轴,PDA, FAM A/B, 通用大宇\",\"descriptionEN\":\"ENGINE GAS, 4 CYL, 1.4L, MFI, DOHC, PDA, FAM A/B, GMDAT\"},{\"optionCode\":\"LHD\",\"descriptionCN\":\"左驾车驱动机构\",\"descriptionEN\":\"VEHICLE DRIVE LEFT HAND DRIVE\"},{\"optionCode\":\"MM3\",\"descriptionCN\":\"市售手动变速器设备\",\"descriptionEN\":\"MERCHANDISED TRANS MANUAL EQUIPMENT\"},{\"optionCode\":\"MX3\",\"descriptionCN\":\"5速手动变速器, Y4M SHD, 1档 3.643, 5档 0.767\",\"descriptionEN\":\"TRANSMISSION MAN 5 SPD, Y4M SHD, 1ST 3.643, 5TH 0.767\"},{\"optionCode\":\"N08\",\"descriptionCN\":\"遥控燃油加注口门锁控制\",\"descriptionEN\":\"LOCK CONTROL FUEL FILLER DR, REM CONT\"},{\"optionCode\":\"N12\",\"descriptionCN\":\"排气系统 后部出口\",\"descriptionEN\":\"EXHAUST SYSTEM REAR EXIT\"},{\"optionCode\":\"N37\",\"descriptionCN\":\"伸缩式倾斜转向柱\",\"descriptionEN\":\"STEERING COLUMN TILT, TELESCOPING\"},{\"optionCode\":\"N45\",\"descriptionCN\":\"转向盘 3辐\",\"descriptionEN\":\"STEERING WHEEL 3 SPOKES\"},{\"optionCode\":\"NE9\",\"descriptionCN\":\"排放系统蒸发排放控制 09\",\"descriptionEN\":\"EMISSION SYSTEM EEC 09\"},{\"optionCode\":\"NJ1\",\"descriptionCN\":\"动力转向,不变传动比,电动\",\"descriptionEN\":\"STEERING POWER, NON-VARIABLE RATIO, ELECTRIC\"},{\"optionCode\":\"Q6K\",\"descriptionCN\":\"轮胎 ALL 195/65R15 SL 91H BW HW3\",\"descriptionEN\":\"TIRE ALL 195/65R15 SL 91H BW HW3\"},{\"optionCode\":\"Q8E\",\"descriptionCN\":\"机械式千斤顶, 带工具\",\"descriptionEN\":\"JACK MECHANICAL, W/TOOLS\"},{\"optionCode\":\"RRL\",\"descriptionCN\":\"车轮 15 X 6.0, J, 钢, 第1设计\",\"descriptionEN\":\"WHEEL 15 X 6.0, J, STEEL, DESIGN 1\"},{\"optionCode\":\"T39\",\"descriptionCN\":\"辅助转向信号灯\",\"descriptionEN\":\"LAMP TURN SIGNAL, AUX\"},{\"optionCode\":\"T4A\",\"descriptionCN\":\"卤素前照灯\",\"descriptionEN\":\"HEADLAMPS HALOGEN\"},{\"optionCode\":\"TD1\",\"descriptionCN\":\"安全三角反光板\",\"descriptionEN\":\"REFLECTOR SAFETY TRIANGLE\"},{\"optionCode\":\"TM7\",\"descriptionCN\":\"蓄电池 60 安&middot;时\",\"descriptionEN\":\"BATTERY 60 AH\"},{\"optionCode\":\"TR6\",\"descriptionCN\":\"前大灯高度控制手动调节系统\",\"descriptionEN\":\"HEADLAMPS CONTROL LEVELING SYSTEM, MANUAL\"},{\"optionCode\":\"TS6\",\"descriptionCN\":\"高位制动灯\",\"descriptionEN\":\"LAMP STOP, HIGH LEVEL\"},{\"optionCode\":\"U04\",\"descriptionCN\":\"单音喇叭\",\"descriptionEN\":\"HORN SINGLE NOTE\"},{\"optionCode\":\"U18\",\"descriptionCN\":\"车速表仪表,公里\",\"descriptionEN\":\"SPEEDOMETER INST, KILO\"},{\"optionCode\":\"U25\",\"descriptionCN\":\"行李厢内门控灯\",\"descriptionEN\":\"LAMP INTR, RR COMPT, COURTESY\"},{\"optionCode\":\"U71\",\"descriptionCN\":\"车顶天线\",\"descriptionEN\":\"ANTENNA,ROOF\"},{\"optionCode\":\"UDG\",\"descriptionCN\":\"行程里程表显示仪表 (分段)\",\"descriptionEN\":\"DISPLAY INSTRUMENT TRIP ODOMETER (SEGMENTED)\"},{\"optionCode\":\"UH0\",\"descriptionCN\":\"座椅安全带警告指示器,左侧\",\"descriptionEN\":\"INDICATOR SEAT BELT WARNING , LH\"},{\"optionCode\":\"UH1\",\"descriptionCN\":\"座椅安全带警告指示,右侧\",\"descriptionEN\":\"INDICATOR SEAT BELT WARNING , RH\"},{\"optionCode\":\"UQK\",\"descriptionCN\":\"儿童保护装置, 仅2点式儿童座椅固定装置, 固定点(包括2个顶部儿童保护装置固定点)\",\"descriptionEN\":\"RESTRAINT PROVISIONS CHILD, ISOFIX 2 POINT ONLY, POINT/LAT CH(INC 2 TOP TETHER POINTS)\"},{\"optionCode\":\"US8\",\"descriptionCN\":\"调幅/调频立体声收音机,查询/搜索,CD,自动调节,时钟,MP3,音响数据系统\",\"descriptionEN\":\"RADIO AM/FM STEREO, SEEK/SCAN, CD, AUTO TONE, CLOCK ETR, MP3, RDS\"},{\"optionCode\":\"UW4\",\"descriptionCN\":\"4声道扬声器系统,按顾客要求定制\",\"descriptionEN\":\"SPEAKER SYSTEM 4, CUSTOM\"},{\"optionCode\":\"V22\",\"descriptionCN\":\"散热器格栅,镀铬\",\"descriptionEN\":\"GRILLE RADIATOR, CHROME\"},{\"optionCode\":\"V86\",\"descriptionCN\":\"车辆说明,中国\",\"descriptionEN\":\"VEHICLE STATEMENT CHINA\"},{\"optionCode\":\"VD1\",\"descriptionCN\":\"装置选装件,欧洲(出口)\",\"descriptionEN\":\"PROVISION OPTIONS,EUROPE(EXPORT)\"},{\"optionCode\":\"VEE\",\"descriptionCN\":\"前保险杠 车身颜色, 前&amp;后\",\"descriptionEN\":\"BUMPER FRT BODY COLOR, FRT &amp; RR\"},{\"optionCode\":\"VHY\",\"descriptionCN\":\"车身钣金件保护装置,防高腐蚀性\",\"descriptionEN\":\"PROTECTOR BODY SHEET METAL, HIGH CORROSION PREVENTIVE\"},{\"optionCode\":\"VIX\",\"descriptionCN\":\"车辆识别板-目视(GMDAT)\",\"descriptionEN\":\"PLATE VEHICLE IDENTIFICATION - VISUAL (GMDAT)\"},{\"optionCode\":\"VMO\",\"descriptionCN\":\"中央仪表板, 石墨色银白色金属漆\",\"descriptionEN\":\"PANEL CENTER INSTRUMENT, GRAPHITE SILVER MET\"},{\"optionCode\":\"VMT\",\"descriptionCN\":\"缓冲块前低速, 后轻量\",\"descriptionEN\":\"BUMPER FRT LOW SPEED, RR LIGHT WEIGHT\"},{\"optionCode\":\"VRG\",\"descriptionCN\":\"座舱预装总成\",\"descriptionEN\":\"VALUE ADDED ASM COCKPIT\"},{\"optionCode\":\"VRH\",\"descriptionCN\":\"转向柱预装总成\",\"descriptionEN\":\"VALUE ADDED ASM STEERING COLUMN\"},{\"optionCode\":\"VRK\",\"descriptionCN\":\"车顶饰件预装总成\",\"descriptionEN\":\"VALUE ADDED ASM ROOF TRIM\"},{\"optionCode\":\"VRL\",\"descriptionCN\":\"前水平悬架预装总成\",\"descriptionEN\":\"VALUE ADDED ASM FRONT HORIZONTAL SUSPENSION\"},{\"optionCode\":\"VRM\",\"descriptionCN\":\"前垂直悬架预装总成\",\"descriptionEN\":\"VALUE ADDED ASM FRONT VERTICAL SUSPENSION\"},{\"optionCode\":\"VRN\",\"descriptionCN\":\"后悬架预装成\",\"descriptionEN\":\"VALUE ADDED ASM REAR SUSPENSION\"},{\"optionCode\":\"VRR\",\"descriptionCN\":\"轮胎和车轮预装总成\",\"descriptionEN\":\"VALUE ADDED ASM TIRES &amp; WHEELS\"},{\"optionCode\":\"WAL\",\"descriptionCN\":\"铭牌装饰 &quot;AVEO&quot;\",\"descriptionEN\":\"ORNAMENTATION NAME PLATE &quot;AVEO&quot;\"},{\"optionCode\":\"WD5\",\"descriptionCN\":\"有效标识点控制 - 发动机\",\"descriptionEN\":\"IDENTIFICATION EFFECTIVE POINT CONTROL - ENGINE\"},{\"optionCode\":\"XL7\",\"descriptionCN\":\"额定频率,315兆赫兹,远距离\",\"descriptionEN\":\"FREQUENCIES RATING 315 MHZ, LONG DISTANCE\"},{\"optionCode\":\"Y7C\",\"descriptionCN\":\"转换执行提升到0级\",\"descriptionEN\":\"CONVERSION ACT PROMOTED TO ZERO LEVEL\"},{\"optionCode\":\"ZAA\",\"descriptionCN\":\"紧凑型备胎\",\"descriptionEN\":\"TIRES COMPACT SPARE\"}]}',\"{'SGM_OAUTH_CODE': '0a5603a9514893e2d52049cca9dc3f47', 'dealer_mid:prod:': '162eaf5f-6f65-4d84-be70-b6fe07b88b37'}\",'SGM_OAUTH_CODE=0a5603a9514893e2d52049cca9dc3f47; Max-Age=1800; Domain=.saic-gm.com; Path=/; Expires=Wed, 28 Aug 2019 13:09:04 GMT; HttpOnly, SGM_OAUTH_CODE=0a5603a9514893e2d52049cca9dc3f47; Max-Age=1800; Domain=.saic-gm.net; Path=/; Expires=Wed, 28 Aug 2019 13:09:04 GMT; HttpOnly, SGM_OAUTH_CODE=0a5603a9514893e2d52049cca9dc3f47; Max-Age=1800; Domain=.sgmlink.com; Path=/; Expires=Wed, 28 Aug 2019 13:09:04 GMT; HttpOnly, dealer_mid:prod:=162eaf5f-6f65-4d84-be70-b6fe07b88b37; Max-Age=1800; Domain=.saic-gm.com; Path=/; Expires=Wed, 28 Aug 2019 13:09:05 GMT; HttpOnly, dealer_mid:prod:=162eaf5f-6f65-4d84-be70-b6fe07b88b37; Max-Age=1800; Domain=.saic-gm.net; Path=/; Expires=Wed, 28 Aug 2019 13:09:05 GMT; HttpOnly, dealer_mid:prod:=162eaf5f-6f65-4d84-be70-b6fe07b88b37; Max-Age=1800; Domain=.sgmlink.com; Path=/; Expires=Wed, 28 Aug 2019 13:09:05 GMT; HttpOnly');"
   ]
  }
 ],
 "metadata": {
  "kernelspec": {
   "display_name": "Python 3",
   "language": "python",
   "name": "python3"
  },
  "language_info": {
   "codemirror_mode": {
    "name": "ipython",
    "version": 3
   },
   "file_extension": ".py",
   "mimetype": "text/x-python",
   "name": "python",
   "nbconvert_exporter": "python",
   "pygments_lexer": "ipython3",
   "version": "3.6.5"
  }
 },
 "nbformat": 4,
 "nbformat_minor": 2
}
