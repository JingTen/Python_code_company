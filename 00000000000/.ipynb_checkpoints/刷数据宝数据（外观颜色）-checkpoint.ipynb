{
 "cells": [
  {
   "cell_type": "code",
   "execution_count": 6,
   "metadata": {},
   "outputs": [
    {
     "name": "stdout",
     "output_type": "stream",
     "text": [
      "[['LFMAP22C5A0182568', '10612', ''], ['LFMGLK74773000237', '3496', ''], ['LVGBH51K5CG012801', '15146', '']]\n",
      "['LFMAP22C5A0182568', '10612', '']\n",
      "['LFMGLK74773000237', '3496', '']\n",
      "['LVGBH51K5CG012801', '15146', '']\n"
     ]
    }
   ],
   "source": [
    "import requests\n",
    "from bs4 import BeautifulSoup\n",
    "import re\n",
    "\n",
    "def get_color_from_sjb(vin):\n",
    "    # 设置请求头\n",
    "    headers = {\n",
    "        'Cookie': 'PHPSESSID=254mq8cqla25sn6hu9pcbh6hfc',\n",
    "        'Host': 'vin-tools',\n",
    "        'User-Agent': 'Mozilla/5.0 (Windows NT 10.0; Win64; x64) AppleWebKit/537.36 (KHTML, like Gecko) Chrome/74.0.3729.6 Safari/537.36',\n",
    "        'Accept-Encoding': 'gzip, deflate',\n",
    "        'Accept': 'text/html,application/xhtml+xml,application/xml;q=0.9,image/webp,image/apng,*/*;q=0.8,application/signed-exchange;v=b3'\n",
    "    }\n",
    "    url = 'http://vin-tools/index.php/Home/CatarcTools/QueryEngineCode?vin={}&full_data=1&tdsourcetag=s_pctim_aiomsg'.format(vin)\n",
    "    r = requests.get(url, headers=headers, timeout=6)\n",
    "    if r.status_code == 200:\n",
    "        bsObj = BeautifulSoup(r.text,'lxml')\n",
    "        body = bsObj.find('pre')\n",
    "        content = body.get_text()\n",
    "        model_id = re.compile('车型ID：[0-9]{0,10}车型名称').search(content)\n",
    "        color_name = re.compile('颜色：[\\S|\\s]{0,15}生产时间').search(content)\n",
    "        if model_id:\n",
    "            model_id = model_id.group().replace('车型ID：','').replace('车型名称','')\n",
    "        else:\n",
    "            model_id = ''\n",
    "        if color_name:\n",
    "            color_name = color_name.group().replace('颜色：','').replace('生产时间','')\n",
    "        else:\n",
    "            color_name = ''\n",
    "        return [model_id, color_name]\n",
    "    else:\n",
    "        return None\n",
    "vins = ['LFMGLK74573000205', 'LFMGLK74773000237', 'JTEGD54M767034137', 'JTEGD54M467034192', 'JTEGD54M677048841', 'LFMGJE720DS066233', 'LVGC218X3JG002006', 'LFMBEC4D6D0184307', 'JTEGD54M667034131', 'LFMGJE726AS000006', 'LFMGJE725AS001017', 'LFMGJE729AS001022', 'LVGB674K1KG001015', 'LVGB674K4KG001008', 'LFMAU92A080002018', 'LVGB674K6KG002001', 'LVGB674K9KG001019', 'LVGB674K2KG002559', 'LVGB674K4KG005138', 'JTEGD54M567033696', 'JTEGD54M697074827', 'JTEGD54M597076469', 'JTEGD54M5B7103966', 'JTEGD54M8AA023790', 'JTEGS54M860001002', 'LFMAU92A580002824', 'LFMAP22C5A0182568', 'LFMAU92A980002003', 'LVGCW92349G006098', 'LVGCW92318G001181', 'LVGCW92319G006138', 'LVGBH51K5CG012801', 'LVGC218X7JG002302', 'LVGBM51K3EG002105', 'LVGBM51K3EG002587', 'LVGBM51KXFG003401', 'LVGBB40KXAG003196', 'LVGBJE732GG160334', 'LFMBEC4D3C0105027', 'LFMAU92A780002002', 'LFMAU92A380002787', 'LFMA7E6A4D0002057', 'LFMJ34AF9D3001025', 'LFMA7E6A4D0002091', 'LFMAP90A9B0074756', 'LFMAP90A4D0090074', 'LFMAP90A3D0090096', 'LFMBDK4B090016505', 'JTEBX3FJ395000544', 'LFMCZ34E2B3001000', 'LFMBDK4BX90016706', 'LFMBEC4D1A0001956', 'LFMBEC4D1D0184313', 'LFMBE22D290167282', 'LVGCW92308G001981', 'LVGCW92378G001184', 'LVGCW92338G001019', 'LVGCW92328G001982', 'LVGCU9038AG047279', 'LFMJ34AF2D3001061', 'LFMARE0C170004759', 'LFMA180C5F0003007', 'LVGDN56A9FG002326', 'LFMJ34AF4G3000031', 'LFMB0ABB0F0002026', 'LFMB0ABB0H0001025', 'LFMBDK4B790016520', 'LVGC218X5JG001083', 'LVGC218X3JG001101', 'LVGC218X8JG001014', 'LVGC218X6JG001156', 'LVGC218X7JG002011', 'LVGC218X0JG001136', 'JTEGD21H4A8144328', 'LVGC218X1JG001064', 'LVGC218X9JG001104', 'JF1ZN14A1D9013557', 'JF1ZN14AXC9013233', 'JF1ZN14A5C9013043', 'JF1ZN14A1D9013543', 'JF1ZN14AXD9015307', 'JF1ZN14A6D9014705', 'JF1ZN14A6D9015577', 'LVGCGE239DG002479', 'LVGBY8093KG001052', 'LFMCM1CX5J0002020', 'LFMCM1CX5J0002003', 'LFMCM1CX6J0002012', 'LFMCM1CX2J0002007', 'LFMCM1CX0J0002023', 'LFMCM1CX2J0002024', 'LVGBY8093KG001021']\n",
    "vins = ['LFMAP22C5A0182568', 'LFMGLK74773000237', 'LVGBH51K5CG012801']\n",
    "\n",
    "result_list = []\n",
    "for vin in vins:\n",
    "    single_result = [vin]\n",
    "    model_id_AND_color = get_color_from_sjb(vin)\n",
    "    single_result += model_id_AND_color\n",
    "    result_list.append(single_result)\n",
    "    \n",
    "for ii in result_list:\n",
    "    print(ii)\n",
    "    \n",
    "\n",
    "\n"
   ]
  },
  {
   "cell_type": "code",
   "execution_count": 2,
   "metadata": {},
   "outputs": [
    {
     "name": "stdout",
     "output_type": "stream",
     "text": [
      "['LFMGLK74573000205', 'LFMGLK74773000237', 'JTEGD54M767034137', 'JTEGD54M467034192', 'JTEGD54M677048841', 'LFMGJE720DS066233', 'LVGC218X3JG002006', 'LFMBEC4D6D0184307', 'JTEGD54M667034131', 'LFMGJE726AS000006', 'LFMGJE725AS001017', 'LFMGJE729AS001022', 'LVGB674K1KG001015', 'LVGB674K4KG001008', 'LFMAU92A080002018', 'LVGB674K6KG002001', 'LVGB674K9KG001019', 'LVGB674K2KG002559', 'LVGB674K4KG005138', 'JTEGD54M567033696', 'JTEGD54M697074827', 'JTEGD54M597076469', 'JTEGD54M5B7103966', 'JTEGD54M8AA023790', 'JTEGS54M860001002', 'LFMAU92A580002824', 'LFMAP22C5A0182568', 'LFMAU92A980002003', 'LVGCW92349G006098', 'LVGCW92318G001181', 'LVGCW92319G006138', 'LVGBH51K5CG012801', 'LVGC218X7JG002302', 'LVGBM51K3EG002105', 'LVGBM51K3EG002587', 'LVGBM51KXFG003401', 'LVGBB40KXAG003196', 'LVGBJE732GG160334', 'LFMBEC4D3C0105027', 'LFMAU92A780002002', 'LFMAU92A380002787', 'LFMA7E6A4D0002057', 'LFMJ34AF9D3001025', 'LFMA7E6A4D0002091', 'LFMAP90A9B0074756', 'LFMAP90A4D0090074', 'LFMAP90A3D0090096', 'LFMBDK4B090016505', 'JTEBX3FJ395000544', 'LFMCZ34E2B3001000', 'LFMBDK4BX90016706', 'LFMBEC4D1A0001956', 'LFMBEC4D1D0184313', 'LFMBE22D290167282', 'LVGCW92308G001981', 'LVGCW92378G001184', 'LVGCW92338G001019', 'LVGCW92328G001982', 'LVGCU9038AG047279', 'LFMJ34AF2D3001061', 'LFMARE0C170004759', 'LFMA180C5F0003007', 'LVGDN56A9FG002326', 'LFMJ34AF4G3000031', 'LFMB0ABB0F0002026', 'LFMB0ABB0H0001025', 'LFMBDK4B790016520', 'LVGC218X5JG001083', 'LVGC218X3JG001101', 'LVGC218X8JG001014', 'LVGC218X6JG001156', 'LVGC218X7JG002011', 'LVGC218X0JG001136', 'JTEGD21H4A8144328', 'LVGC218X1JG001064', 'LVGC218X9JG001104', 'JF1ZN14A1D9013557', 'JF1ZN14AXC9013233', 'JF1ZN14A5C9013043', 'JF1ZN14A1D9013543', 'JF1ZN14AXD9015307', 'JF1ZN14A6D9014705', 'JF1ZN14A6D9015577', 'LVGCGE239DG002479', 'LVGBY8093KG001052', 'LFMCM1CX5J0002020', 'LFMCM1CX5J0002003', 'LFMCM1CX6J0002012', 'LFMCM1CX2J0002007', 'LFMCM1CX0J0002023', 'LFMCM1CX2J0002024', 'LVGBY8093KG001021']\n"
     ]
    }
   ],
   "source": [
    "vins = "
   ]
  }
 ],
 "metadata": {
  "kernelspec": {
   "display_name": "Python 3",
   "language": "python",
   "name": "python3"
  },
  "language_info": {
   "codemirror_mode": {
    "name": "ipython",
    "version": 3
   },
   "file_extension": ".py",
   "mimetype": "text/x-python",
   "name": "python",
   "nbconvert_exporter": "python",
   "pygments_lexer": "ipython3",
   "version": "3.6.5"
  }
 },
 "nbformat": 4,
 "nbformat_minor": 2
}
