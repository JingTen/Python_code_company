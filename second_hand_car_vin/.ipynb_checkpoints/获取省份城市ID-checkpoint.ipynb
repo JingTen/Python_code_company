{
 "cells": [
  {
   "cell_type": "code",
   "execution_count": 1,
   "metadata": {},
   "outputs": [],
   "source": [
    "import requests\n",
    "from bs4 import BeautifulSoup\n",
    "from urllib.request import urlopen\n",
    "import re\n",
    "import time\n",
    "headers = {\n",
    "    \"User-Agent\": \"Mozilla/5.0 (Windows NT 10.0; WOW64) AppleWebKit/537.36 (KHTML, like Gecko) Chrome/49.0.2623.112 Safari/537.36\",\n",
    "    \"Accept\": \"text/html,application/xhtml+xml,application/xml;q=0.9,image/webp,*/*;q=0.8\",\n",
    "    \"Connection\": \"close\",\n",
    "    \"Accept-Language\": \"zh-CN,zh;q=0.9\"}\n",
    "session = requests.Session()\n",
    "url = 'https://www.che168.com/china/'\n",
    "r = session.get(url, headers=headers, timeout=30)\n",
    "bsObj = BeautifulSoup(r.content, 'lxml')"
   ]
  },
  {
   "cell_type": "code",
   "execution_count": 19,
   "metadata": {},
   "outputs": [
    {
     "name": "stdout",
     "output_type": "stream",
     "text": [
      "340000 anhui\n",
      "110000 beijing\n",
      "500000 chongqing\n",
      "350000 fujian\n",
      "440000 guangdong\n",
      "450000 guangxi\n",
      "520000 guizhou\n",
      "620000 gansu\n",
      "460000 hainan\n",
      "410000 henan\n",
      "420000 hubei\n",
      "430000 hunan\n",
      "130000 hebei\n",
      "230000 heilongjiang\n",
      "320000 jiangsu\n",
      "360000 jiangxi\n",
      "220000 jilin\n",
      "210000 liaoning\n",
      "150000 namenggu\n",
      "640000 ningxia\n",
      "630000 qinghai\n",
      "610000 shan_xi\n",
      "510000 sichuan\n",
      "310000 shanghai\n",
      "140000 shanxi\n",
      "370000 shandong\n",
      "120000 tianjin\n",
      "650000 xinjiang\n",
      "540000 xizang\n",
      "530000 yunnan\n",
      "330000 zhejiang\n"
     ]
    }
   ],
   "source": [
    "import re\n",
    "# 获取省份（直辖市）、城市及其ID，以及城市拼音\n",
    "div_Area = bsObj.find('div', {'id': 'div_Area'})\n",
    "dd = div_Area.find_all('dd')\n",
    "for i in dd:\n",
    "    a = i.find_all('a')\n",
    "    for j in a:\n",
    "        \n",
    "        pidname = j['pidname']\n",
    "        pid = j['pid']\n",
    "        cidname = j.get_text()\n",
    "        cid = j['cid']\n",
    "        c_py = j['href']\n",
    "        c_py = re.compile(r'^/[a-z_]*/').search(c_py).group().replace('/','')\n",
    "        # print(pidname,pid,cidname,cid,c_py)\n",
    "\n",
    "        \n",
    "# 获取省份（直辖市）及其ID，以及省份（直辖市）拼音\n",
    "dl = div_Area.find_all('dl')\n",
    "for ii in dl:\n",
    "    # 获取首大写字母\n",
    "    nu = ii['id']\n",
    "    # 查找各大写字母下的所有省份（直辖市）并遍历\n",
    "    dt = ii.find_all('dt')\n",
    "    for jj in dt:\n",
    "        p_info = jj.find('span', {'class': 'tx'}).find('a')\n",
    "        #print(p_info)\n",
    "        pid = p_info['pid']\n",
    "        p_py = p_info['href']\n",
    "        p_py = re.compile(r'^/[a-z_]*/').search(p_py).group().replace('/', '')\n",
    "        print(pid, p_py)\n",
    "    "
   ]
  }
 ],
 "metadata": {
  "kernelspec": {
   "display_name": "Python 3",
   "language": "python",
   "name": "python3"
  },
  "language_info": {
   "codemirror_mode": {
    "name": "ipython",
    "version": 3
   },
   "file_extension": ".py",
   "mimetype": "text/x-python",
   "name": "python",
   "nbconvert_exporter": "python",
   "pygments_lexer": "ipython3",
   "version": "3.6.5"
  }
 },
 "nbformat": 4,
 "nbformat_minor": 2
}
